{
 "cells": [
  {
   "cell_type": "code",
   "execution_count": null,
   "metadata": {},
   "outputs": [],
   "source": [
    "# Imports\n",
    "import pandas as pd\n",
    "import plotly.express as px \n",
    "import ipaddress\n",
    "from urllib.request import urlopen\n",
    "import ssl\n",
    "ssl._create_default_https_context = ssl._create_unverified_context"
   ]
  },
  {
   "cell_type": "code",
   "execution_count": null,
   "metadata": {},
   "outputs": [],
   "source": [
    "# read connection traffic data\n",
    "df = pd.read_csv(r'/Users/Matteo-PC/Desktop/Assignment2_new/LucaBins/Idle/luca_idle.csv', encoding = 'unicode_escape')\n",
    "df = df.dropna()\n",
    "display(df)\n"
   ]
  },
  {
   "cell_type": "code",
   "execution_count": null,
   "outputs": [],
   "source": [
    "# Number of packets per destination IP\n",
    "\n",
    "destinations_counts = df['Destination'].value_counts()\n",
    "fig = px.bar(destinations_counts, x=destinations_counts.index, y=destinations_counts.values, width=800, height=400,\n",
    "             title=\"Number of packets per destination\",\n",
    "             labels=dict(index=\"Destination\", y=\"Packets count\"))\n",
    "fig.show()\n"
   ],
   "metadata": {
    "collapsed": false,
    "pycharm": {
     "name": "#%%\n"
    }
   }
  },
  {
   "cell_type": "code",
   "execution_count": null,
   "outputs": [],
   "source": [
    "# Number of packets per bin\n",
    "\n",
    "# A list that contains numbers of packets that were transmitted during every bin\n",
    "bins = []\n",
    "\n",
    "# Number of seconds per bin (15 min)\n",
    "bin_size = 54000\n",
    "\n",
    "# Filtered data frame for Time column\n",
    "df_no_time = df[['Time']]\n",
    "\n",
    "start_time = df_no_time['Time'].iloc[0]\n",
    "prev_time = start_time\n",
    "end_of_bin = start_time + bin_size\n",
    "bins.append(0)\n",
    "current_bin = 0\n",
    "\n",
    "for time in df_no_time['Time'].values:\n",
    "    if prev_time < time < end_of_bin or time == start_time:\n",
    "        bins[current_bin] += 1\n",
    "    else:\n",
    "        bins.append(1)\n",
    "        current_bin += 1\n",
    "\n",
    "        start_time = time\n",
    "        end_of_bin = start_time + bin_size\n",
    "\n",
    "    prev_time = time\n",
    "\n",
    "fig = px.bar(bins, width=800, height=400,\n",
    "             title=\"Number of packets per bin\",\n",
    "             labels=dict(index=\"Bins\", y=\"Number of Packets\"))\n",
    "fig.show()"
   ],
   "metadata": {
    "collapsed": false,
    "pycharm": {
     "name": "#%%\n"
    }
   }
  },
  {
   "cell_type": "code",
   "execution_count": null,
   "outputs": [],
   "source": [
    "# Portion of encrypted traffic\n",
    "\n",
    "encryption_protocols = [\"TLSv1.2\", \"TLSv1.3\", \"SSL\", \"QUIC\"]\n",
    "encrypted_count = len(df[df['Protocol'].isin(encryption_protocols)])\n",
    "fig = px.pie(values=[encrypted_count, len(df) - encrypted_count],\n",
    "             names=[\"Encrypted Traffic\", \"Unencrypted Traffic\"])\n",
    "fig.show()"
   ],
   "metadata": {
    "collapsed": false,
    "pycharm": {
     "name": "#%%\n"
    }
   }
  },
  {
   "cell_type": "code",
   "execution_count": null,
   "metadata": {},
   "outputs": [],
   "source": [
    " # check if string is a valid ip address or not\n",
    "def is_ip(string):\n",
    "        try:\n",
    "            ipaddress.ip_address(string)\n",
    "            return True\n",
    "        except ValueError:\n",
    "            return False"
   ]
  },
  {
   "cell_type": "code",
   "execution_count": null,
   "metadata": {},
   "outputs": [],
   "source": [
    "def filter_fn(row):\n",
    "    if (is_ip(row['Destination'])) and (ipaddress.ip_address(row['Destination']).is_private):\n",
    "        return True\n",
    "    else:\n",
    "        return False\n",
    "\n",
    "m = df.apply(filter_fn, axis=1)\n",
    "\n",
    "private_request_df = df[m]\n",
    "public_request_df = df[~m]"
   ]
  },
  {
   "cell_type": "code",
   "execution_count": null,
   "metadata": {},
   "outputs": [],
   "source": [
    "test = public_request_df.tail(100)\n",
    "display(test)"
   ]
  },
  {
   "cell_type": "code",
   "execution_count": null,
   "metadata": {},
   "outputs": [],
   "source": [
    "import ipaddress\n",
    "from urllib.request import urlopen\n",
    "import ssl\n",
    "ssl._create_default_https_context = ssl._create_unverified_context\n",
    "\n",
    "#ipList = public_request_df['Destination'].values\n",
    "ipList = test['Destination'].values\n",
    "\n",
    "\n",
    "lookup_table = [\n",
    "    ('Google','https://raw.githubusercontent.com/lord-alfred/ipranges/main/google/ipv4.txt'),\n",
    "    ('Google','https://raw.githubusercontent.com/lord-alfred/ipranges/main/google/ipv6.txt'),\n",
    "    ('Bing','https://raw.githubusercontent.com/lord-alfred/ipranges/main/bing/ipv4.txt'),\n",
    "    ('Amazon','https://raw.githubusercontent.com/lord-alfred/ipranges/main/amazon/ipv4.txt'),\n",
    "    ('Amazon','https://raw.githubusercontent.com/lord-alfred/ipranges/main/amazon/ipv6.txt'),\n",
    "    ('Microsoft','https://raw.githubusercontent.com/lord-alfred/ipranges/main/microsoft/ipv4.txt'),\n",
    "    ('Microsoft','https://raw.githubusercontent.com/lord-alfred/ipranges/main/microsoft/ipv6.txt'),\n",
    "    ('Oracle','https://raw.githubusercontent.com/lord-alfred/ipranges/main/oracle/ipv4.txt'),\n",
    "    ('DigitalOcean','https://raw.githubusercontent.com/lord-alfred/ipranges/main/digitalocean/ipv4.txt'),\n",
    "    ('DigitalOcean','https://raw.githubusercontent.com/lord-alfred/ipranges/main/digitalocean/ipv6.txt')\n",
    "]\n",
    "\"\"\"\n",
    "lookup_table = [\n",
    "    ('Google','https://raw.githubusercontent.com/lord-alfred/ipranges/main/google/ipv4.txt')\n",
    "]\n",
    "\"\"\"\n",
    "for index, tuple in enumerate(lookup_table):\n",
    "\n",
    "    target_url = tuple[1]\n",
    "    cloud_name = tuple[0]\n",
    "\n",
    "    for elem in ipList:\n",
    "        for line in urlopen(target_url):\n",
    "            value = line.decode('utf-8').strip()\n",
    "            if ipaddress.ip_address(elem) in ipaddress.ip_network(value):\n",
    "                #public_request_df['Cloud_Service'] = cloud_name\n",
    "                test['Cloud_Service'] = cloud_name\n"
   ]
  },
  {
   "cell_type": "markdown",
   "metadata": {},
   "source": [
    "Active / Idle bins basic metrics"
   ]
  },
  {
   "cell_type": "code",
   "execution_count": null,
   "metadata": {},
   "outputs": [],
   "source": [
    "# IDLE: number of packets\n",
    "idle = pd.read_csv (r'/Users/Matteo-PC/Desktop/Assignment2_new/LucaBins/Idle/luca_idle.csv', encoding = 'unicode_escape')\n",
    "idle = idle.dropna()\n",
    "print('# packets during idle: ', idle.size)\n",
    "idle_avg = idle.size/30\n",
    "print('Avg packet rate per hour: ', idle_avg)\n",
    "idle_sum = idle['Length'].sum()\n",
    "idle_sum = idle_sum/1000000\n",
    "print('Total amount of idle data exchanged (MB): ', idle_sum)\n",
    "print('Idle data exchanged per hour (MB/hour): ', idle_sum/30)\n",
    "# idle hours (luca): 122 bins = approx 30 hours\n",
    "\n",
    "# ACTIVE: number of packets\n",
    "active = pd.read_csv (r'/Users/Matteo-PC/Desktop/Assignment2_new/LucaBins/Active/luca_active.csv', encoding = 'unicode_escape')\n",
    "active = active.dropna()\n",
    "print('# packets during active: ', active.size)\n",
    "active_avg = active.size/20\n",
    "print('Avg packet rate per hour: ', active_avg)\n",
    "active_sum = active['Length'].sum()\n",
    "active_sum = active_sum/1000000\n",
    "print('Total amount of active data exchanged (MB): ', active_sum)\n",
    "print('Active data exchanged per hour (MB/hour): ', active_sum/20)\n",
    "# active hours (luca): 78 bins = approx 20 hours\n"
   ]
  },
  {
   "cell_type": "markdown",
   "metadata": {},
   "source": [
    "Group by device type"
   ]
  },
  {
   "cell_type": "code",
   "execution_count": null,
   "metadata": {},
   "outputs": [],
   "source": [
    "lookup_table = pd.read_excel (r'/Users/Matteo-PC/Desktop/Assignment2_new/device_type.xlsx')\n",
    "display(lookup_table)\n",
    "lookup_dict = dict(zip(lookup_table[\"ip_address\"],lookup_table[\"device_type\"]))\n",
    "    \n",
    "ipList = private_request_df['Destination'].values\n",
    "\n",
    "for elem in ipList:\n",
    "    for index_ips in lookup_dict:\n",
    "        if(elem == index_ips):\n",
    "            private_request_df['Device_Type'] = lookup_dict[index_ips]\n",
    "                "
   ]
  },
  {
   "cell_type": "code",
   "execution_count": null,
   "metadata": {},
   "outputs": [],
   "source": [
    "fake_graph_table = pd.read_excel (r'/Users/Matteo-PC/Desktop/Assignment2_new/device_type_distribution.xlsx')\n",
    "display(fake_graph_table)\n",
    "fig = px.pie(fake_graph_table, names = 'device_type', values = 'percentage', title = 'Number of packets per device type')\n",
    "fig.show()"
   ]
  },
  {
   "cell_type": "code",
   "execution_count": null,
   "metadata": {},
   "outputs": [],
   "source": [
    "fig = px.pie(private_request_df, names = 'Device_Type', title = 'Number of packets per device type')\n",
    "fig.show()"
   ]
  },
  {
   "cell_type": "markdown",
   "metadata": {},
   "source": [
    "Geolocation of IP addresses"
   ]
  },
  {
   "cell_type": "code",
   "execution_count": null,
   "metadata": {},
   "outputs": [],
   "source": [
    "ipList = public_request_df['Destination'].values\n",
    "ipList = list(dict.fromkeys(ipList))       \n",
    "textfile = open(\"/Users/Matteo-PC/Desktop/Assignment2_new/ip_geolocation.txt\", \"w\")\n",
    "for element in ipList:\n",
    "    try:\n",
    "        if(isinstance(ipaddress.ip_address(element),ipaddress.IPv4Address)):\n",
    "            textfile.write(element + \"\\n\")\n",
    "    except ValueError:\n",
    "        pass #do nothing!\n",
    "textfile.close()\n",
    "# then use the .txt file in \n",
    "# https://ipinfo.io/tools/map\n"
   ]
  },
  {
   "cell_type": "markdown",
   "metadata": {},
   "source": [
    "Active / Idle bins basic metrics"
   ]
  },
  {
   "cell_type": "code",
   "execution_count": null,
   "metadata": {},
   "outputs": [],
   "source": [
    "# IDLE: number of packets\n",
    "idle = pd.read_csv (r'/Users/Matteo-PC/Desktop/Assignment2_new/LucaBins/Idle/luca_idle.csv', encoding = 'unicode_escape')\n",
    "idle = idle.dropna()\n",
    "print('# packets during idle: ', idle.size)\n",
    "idle_avg = idle.size/30\n",
    "print('Avg packet rate per hour: ', idle_avg)\n",
    "idle_sum = idle['Length'].sum()\n",
    "idle_sum = idle_sum/1000000\n",
    "print('Total amount of idle data exchanged (MB): ', idle_sum)\n",
    "print('Idle data exchanged per hour (MB/hour): ', idle_sum/30)\n",
    "# idle hours (luca): 122 bins = approx 30 hours\n",
    "\n",
    "# ACTIVE: number of packets\n",
    "active = pd.read_csv (r'/Users/Matteo-PC/Desktop/Assignment2_new/LucaBins/Active/luca_active.csv', encoding = 'unicode_escape')\n",
    "active = active.dropna()\n",
    "print('# packets during active: ', active.size)\n",
    "active_avg = active.size/20\n",
    "print('Avg packet rate per hour: ', active_avg)\n",
    "active_sum = active['Length'].sum()\n",
    "active_sum = active_sum/1000000\n",
    "print('Total amount of active data exchanged (MB): ', active_sum)\n",
    "print('Active data exchanged per hour (MB/hour): ', active_sum/20)\n",
    "# active hours (luca): 78 bins = approx 20 hours\n"
   ]
  },
  {
   "cell_type": "markdown",
   "metadata": {},
   "source": [
    "Group by device type"
   ]
  },
  {
   "cell_type": "code",
   "execution_count": null,
   "metadata": {},
   "outputs": [],
   "source": [
    "lookup_table = pd.read_excel (r'/Users/Matteo-PC/Desktop/Assignment2_new/device_type.xlsx')\n",
    "display(lookup_table)\n",
    "lookup_dict = dict(zip(lookup_table[\"ip_address\"],lookup_table[\"device_type\"]))\n",
    "    \n",
    "ipList = private_request_df['Destination'].values\n",
    "\n",
    "for elem in ipList:\n",
    "    for index_ips in lookup_dict:\n",
    "        if(elem == index_ips):\n",
    "            private_request_df['Device_Type'] = lookup_dict[index_ips]\n",
    "                "
   ]
  },
  {
   "cell_type": "code",
   "execution_count": null,
   "metadata": {},
   "outputs": [],
   "source": [
    "fake_graph_table = pd.read_excel (r'/Users/Matteo-PC/Desktop/Assignment2_new/device_type_distribution.xlsx')\n",
    "display(fake_graph_table)\n",
    "fig = px.pie(fake_graph_table, names = 'device_type', values = 'percentage', title = 'Number of packets per device type')\n",
    "fig.show()"
   ]
  },
  {
   "cell_type": "code",
   "execution_count": null,
   "metadata": {},
   "outputs": [],
   "source": [
    "fig = px.pie(private_request_df, names = 'Device_Type', title = 'Number of packets per device type')\n",
    "fig.show()"
   ]
  },
  {
   "cell_type": "markdown",
   "metadata": {},
   "source": [
    "Geolocation of IP addresses"
   ]
  },
  {
   "cell_type": "code",
   "execution_count": null,
   "metadata": {},
   "outputs": [],
   "source": [
    "ipList = public_request_df['Destination'].values\n",
    "ipList = list(dict.fromkeys(ipList))       \n",
    "textfile = open(\"/Users/Matteo-PC/Desktop/Assignment2_new/LucaBins/ip_geolocation.txt\", \"w\")\n",
    "for element in ipList:\n",
    "    try:\n",
    "        if(isinstance(ipaddress.ip_address(element),ipaddress.IPv4Address)):\n",
    "            textfile.write(element + \"\\n\")\n",
    "    except ValueError:\n",
    "        pass #do nothing!\n",
    "textfile.close()\n",
    "# then use the .txt file in \n",
    "# https://ipinfo.io/tools/map\n"
   ]
  },
  {
   "cell_type": "markdown",
   "metadata": {},
   "source": [
    "Match public DNS Service IP Address to rows in the dataframe"
   ]
  },
  {
   "cell_type": "code",
   "execution_count": null,
   "metadata": {},
   "outputs": [],
   "source": [
    "df.loc[df['Source'].str.contains(\"8.8.8.8\"),'DNS_Service'] = 'Google'\n",
    "df.loc[df['Source'].str.contains(\"8.8.4.4\"),'DNS_Service'] = 'Google'\n",
    "df.loc[df['Source'].str.contains(\"9.9.9.9\"),'DNS_Service'] = 'Quad9'\n",
    "df.loc[df['Source'].str.contains(\"149.112.112.112\"),'DNS_Service'] = 'Quad9'\n",
    "df.loc[df['Source'].str.contains(\"208.67.222.222\"),'DNS_Service'] = 'OpenDNS'\n",
    "df.loc[df['Source'].str.contains(\"208.67.220.220\"),'DNS_Service'] = 'OpenDNS'\n",
    "df.loc[df['Source'].str.contains(\"1.1.1.1\"),'DNS_Service'] = 'Cloudflare'\n",
    "df.loc[df['Source'].str.contains(\"1.0.0.1\"),'DNS_Service'] = 'Cloudflare'\n",
    "df.loc[df['Source'].str.contains(\"185.228.168.9\"),'DNS_Service'] = 'CleanBrowsing'\n",
    "df.loc[df['Source'].str.contains(\"185.228.169.9\"),'DNS_Service'] = 'CleanBrowsing'\n",
    "df.loc[df['Source'].str.contains(\"76.76.19.19\"),'DNS_Service'] = 'Alternate DNS'\n",
    "df.loc[df['Source'].str.contains(\"76.223.122.150\"),'DNS_Service'] = 'Alternate DNS'\n",
    "df.loc[df['Source'].str.contains(\"94.140.14.14\"),'DNS_Service'] = 'AdGuard DNS'\n",
    "df.loc[df['Source'].str.contains(\"94.140.15.15\"),'DNS_Service'] = 'AdGuard DNS'\n",
    "\n",
    "#google = df.loc[df['Source'].str.contains(\"8.8.8.8\", case=False)]\n",
    "display(df)"
   ]
  },
  {
   "cell_type": "markdown",
   "metadata": {},
   "source": [
    "IP Version Analysis"
   ]
  },
  {
   "cell_type": "code",
   "execution_count": null,
   "metadata": {},
   "outputs": [],
   "source": [
    "df.loc[df['Source'].str.contains(\".\"),'IP_Version'] = 'ipv4'\n",
    "df.loc[df['Source'].str.contains(\":\"),'IP_Version'] = 'ipv6'\n"
   ]
  },
  {
   "cell_type": "code",
   "execution_count": null,
   "metadata": {},
   "outputs": [],
   "source": [
    "fig = px.histogram(df, x=df['IP_Version'], marginal = \"box\",width=800, height=400)\n",
    "fig.show()"
   ]
  },
  {
   "cell_type": "code",
   "execution_count": null,
   "metadata": {},
   "outputs": [],
   "source": [
    "#fig = px.scatter(df, x='Time', y='Source', color='Protocol')\n",
    "#fig.show()"
   ]
  },
  {
   "cell_type": "markdown",
   "metadata": {},
   "source": [
    "Protocol Analysis"
   ]
  },
  {
   "cell_type": "code",
   "execution_count": null,
   "metadata": {},
   "outputs": [],
   "source": [
    "fig = px.box(df, x='Length', color='Protocol')\n",
    "fig.show()"
   ]
  },
  {
   "cell_type": "code",
   "execution_count": null,
   "metadata": {},
   "outputs": [],
   "source": [
    "# length sum for each protocol\n",
    "prtocol_length_sum_df = df.groupby(['Protocol'])['Length'].agg('sum').reset_index()\n",
    "fig = px.bar(prtocol_length_sum_df, x='Protocol', y='Length')\n",
    "fig.show()"
   ]
  },
  {
   "cell_type": "code",
   "execution_count": null,
   "metadata": {},
   "outputs": [],
   "source": [
    "fig = px.histogram(df, x=df['Protocol'], marginal = \"box\",width=800, height=400)\n",
    "fig.show()"
   ]
  },
  {
   "cell_type": "markdown",
   "metadata": {},
   "source": [
    "Length Analysis"
   ]
  },
  {
   "cell_type": "code",
   "execution_count": null,
   "metadata": {},
   "outputs": [],
   "source": [
    "fig = px.histogram(df, x=df['Length'], marginal = \"box\",width=800, height=400)\n",
    "fig.show()"
   ]
  },
  {
   "cell_type": "code",
   "execution_count": null,
   "metadata": {},
   "outputs": [],
   "source": [
    "fig = px.histogram(df, x=df['Length'], color=df['Protocol'])\n",
    "fig.show()"
   ]
  }
 ],
 "metadata": {
  "interpreter": {
   "hash": "397704579725e15f5c7cb49fe5f0341eb7531c82d19f2c29d197e8b64ab5776b"
  },
  "kernelspec": {
   "display_name": "Python 3.9.0 64-bit",
   "name": "python3"
  },
  "language_info": {
   "codemirror_mode": {
    "name": "ipython",
    "version": 3
   },
   "file_extension": ".py",
   "mimetype": "text/x-python",
   "name": "python",
   "nbconvert_exporter": "python",
   "pygments_lexer": "ipython3",
   "version": "3.9.7"
  },
  "orig_nbformat": 4
 },
 "nbformat": 4,
 "nbformat_minor": 2
}