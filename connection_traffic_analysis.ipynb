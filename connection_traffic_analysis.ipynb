{
 "cells": [
  {
   "cell_type": "code",
   "execution_count": 1,
   "metadata": {},
   "outputs": [],
   "source": [
    "# Imports\n",
    "import pandas as pd\n",
    "import plotly.express as px \n",
    "import ipaddress\n",
    "from urllib.request import urlopen\n",
    "import ssl\n",
    "ssl._create_default_https_context = ssl._create_unverified_context"
   ]
  },
  {
   "cell_type": "code",
   "execution_count": 2,
   "metadata": {},
   "outputs": [
    {
     "data": {
      "text/html": [
       "<div>\n",
       "<style scoped>\n",
       "    .dataframe tbody tr th:only-of-type {\n",
       "        vertical-align: middle;\n",
       "    }\n",
       "\n",
       "    .dataframe tbody tr th {\n",
       "        vertical-align: top;\n",
       "    }\n",
       "\n",
       "    .dataframe thead th {\n",
       "        text-align: right;\n",
       "    }\n",
       "</style>\n",
       "<table border=\"1\" class=\"dataframe\">\n",
       "  <thead>\n",
       "    <tr style=\"text-align: right;\">\n",
       "      <th></th>\n",
       "      <th>No.</th>\n",
       "      <th>Time</th>\n",
       "      <th>Source</th>\n",
       "      <th>Destination</th>\n",
       "      <th>Protocol</th>\n",
       "      <th>Length</th>\n",
       "      <th>Info</th>\n",
       "    </tr>\n",
       "  </thead>\n",
       "  <tbody>\n",
       "    <tr>\n",
       "      <th>0</th>\n",
       "      <td>1</td>\n",
       "      <td>0.000000</td>\n",
       "      <td>192.168.137.35</td>\n",
       "      <td>239.255.255.250</td>\n",
       "      <td>SSDP</td>\n",
       "      <td>217</td>\n",
       "      <td>M-SEARCH * HTTP/1.1</td>\n",
       "    </tr>\n",
       "    <tr>\n",
       "      <th>1</th>\n",
       "      <td>2</td>\n",
       "      <td>1.257717</td>\n",
       "      <td>192.168.137.190</td>\n",
       "      <td>185.60.216.15</td>\n",
       "      <td>TLSv1.2</td>\n",
       "      <td>98</td>\n",
       "      <td>Application Data</td>\n",
       "    </tr>\n",
       "    <tr>\n",
       "      <th>2</th>\n",
       "      <td>3</td>\n",
       "      <td>1.285469</td>\n",
       "      <td>185.60.216.15</td>\n",
       "      <td>192.168.137.190</td>\n",
       "      <td>TLSv1.2</td>\n",
       "      <td>94</td>\n",
       "      <td>Application Data</td>\n",
       "    </tr>\n",
       "    <tr>\n",
       "      <th>3</th>\n",
       "      <td>4</td>\n",
       "      <td>1.288602</td>\n",
       "      <td>192.168.137.190</td>\n",
       "      <td>185.60.216.15</td>\n",
       "      <td>TCP</td>\n",
       "      <td>66</td>\n",
       "      <td>41894  &gt;  443 [ACK] Seq=33 Ack=29 Win=501 Len=...</td>\n",
       "    </tr>\n",
       "    <tr>\n",
       "      <th>4</th>\n",
       "      <td>5</td>\n",
       "      <td>1.467483</td>\n",
       "      <td>147.161.177.193</td>\n",
       "      <td>192.168.137.35</td>\n",
       "      <td>TCP</td>\n",
       "      <td>60</td>\n",
       "      <td>443  &gt;  49978 [ACK] Seq=1 Ack=1 Win=2061 Len=0</td>\n",
       "    </tr>\n",
       "    <tr>\n",
       "      <th>...</th>\n",
       "      <td>...</td>\n",
       "      <td>...</td>\n",
       "      <td>...</td>\n",
       "      <td>...</td>\n",
       "      <td>...</td>\n",
       "      <td>...</td>\n",
       "      <td>...</td>\n",
       "    </tr>\n",
       "    <tr>\n",
       "      <th>753571</th>\n",
       "      <td>753572</td>\n",
       "      <td>4968.934199</td>\n",
       "      <td>192.168.137.1</td>\n",
       "      <td>224.0.0.252</td>\n",
       "      <td>LLMNR</td>\n",
       "      <td>71</td>\n",
       "      <td>Standard query 0x6a9a A raspberrypi</td>\n",
       "    </tr>\n",
       "    <tr>\n",
       "      <th>753572</th>\n",
       "      <td>753573</td>\n",
       "      <td>4969.261519</td>\n",
       "      <td>192.168.137.1</td>\n",
       "      <td>192.168.137.255</td>\n",
       "      <td>NBNS</td>\n",
       "      <td>92</td>\n",
       "      <td>Name query NB RASPBERRYPI&lt;00&gt;</td>\n",
       "    </tr>\n",
       "    <tr>\n",
       "      <th>753573</th>\n",
       "      <td>753574</td>\n",
       "      <td>4969.514412</td>\n",
       "      <td>192.168.137.1</td>\n",
       "      <td>224.0.0.251</td>\n",
       "      <td>MDNS</td>\n",
       "      <td>77</td>\n",
       "      <td>Standard query 0x0000 A raspberrypi.local, \"QM...</td>\n",
       "    </tr>\n",
       "    <tr>\n",
       "      <th>753574</th>\n",
       "      <td>753575</td>\n",
       "      <td>4969.515214</td>\n",
       "      <td>fe80::e824:3b27:66ba:d604</td>\n",
       "      <td>ff02::fb</td>\n",
       "      <td>MDNS</td>\n",
       "      <td>97</td>\n",
       "      <td>Standard query 0x0000 A raspberrypi.local, \"QM...</td>\n",
       "    </tr>\n",
       "    <tr>\n",
       "      <th>753575</th>\n",
       "      <td>753576</td>\n",
       "      <td>4969.530163</td>\n",
       "      <td>192.168.137.1</td>\n",
       "      <td>224.0.0.251</td>\n",
       "      <td>MDNS</td>\n",
       "      <td>77</td>\n",
       "      <td>Standard query 0x0000 AAAA raspberrypi.local, ...</td>\n",
       "    </tr>\n",
       "  </tbody>\n",
       "</table>\n",
       "<p>753573 rows × 7 columns</p>\n",
       "</div>"
      ],
      "text/plain": [
       "           No.         Time                     Source      Destination  \\\n",
       "0            1     0.000000             192.168.137.35  239.255.255.250   \n",
       "1            2     1.257717            192.168.137.190    185.60.216.15   \n",
       "2            3     1.285469              185.60.216.15  192.168.137.190   \n",
       "3            4     1.288602            192.168.137.190    185.60.216.15   \n",
       "4            5     1.467483            147.161.177.193   192.168.137.35   \n",
       "...        ...          ...                        ...              ...   \n",
       "753571  753572  4968.934199              192.168.137.1      224.0.0.252   \n",
       "753572  753573  4969.261519              192.168.137.1  192.168.137.255   \n",
       "753573  753574  4969.514412              192.168.137.1      224.0.0.251   \n",
       "753574  753575  4969.515214  fe80::e824:3b27:66ba:d604         ff02::fb   \n",
       "753575  753576  4969.530163              192.168.137.1      224.0.0.251   \n",
       "\n",
       "       Protocol  Length                                               Info  \n",
       "0          SSDP     217                               M-SEARCH * HTTP/1.1   \n",
       "1       TLSv1.2      98                                   Application Data  \n",
       "2       TLSv1.2      94                                   Application Data  \n",
       "3           TCP      66  41894  >  443 [ACK] Seq=33 Ack=29 Win=501 Len=...  \n",
       "4           TCP      60     443  >  49978 [ACK] Seq=1 Ack=1 Win=2061 Len=0  \n",
       "...         ...     ...                                                ...  \n",
       "753571    LLMNR      71                Standard query 0x6a9a A raspberrypi  \n",
       "753572     NBNS      92                      Name query NB RASPBERRYPI<00>  \n",
       "753573     MDNS      77  Standard query 0x0000 A raspberrypi.local, \"QM...  \n",
       "753574     MDNS      97  Standard query 0x0000 A raspberrypi.local, \"QM...  \n",
       "753575     MDNS      77  Standard query 0x0000 AAAA raspberrypi.local, ...  \n",
       "\n",
       "[753573 rows x 7 columns]"
      ]
     },
     "metadata": {},
     "output_type": "display_data"
    }
   ],
   "source": [
    "# read connection traffic data\n",
    "df = pd.read_csv (r'/Users/ZOHELHAS/Desktop/connection-traffic-analysis/bin0.csv', encoding = 'unicode_escape')\n",
    "df = df.dropna()\n",
    "display(df)"
   ]
  },
  {
   "cell_type": "code",
   "execution_count": 3,
   "metadata": {},
   "outputs": [],
   "source": [
    " # check if string is a valid ip address or not\n",
    " def is_ip(string):\n",
    "        try:\n",
    "            ipaddress.ip_address(string)\n",
    "            return True\n",
    "        except ValueError:\n",
    "            return False"
   ]
  },
  {
   "cell_type": "code",
   "execution_count": 11,
   "metadata": {},
   "outputs": [],
   "source": [
    "def filter_fn(row):\n",
    "    if (is_ip(row['Destination'])) and (ipaddress.ip_address(row['Destination']).is_private):\n",
    "        return True\n",
    "    else:\n",
    "        return False\n",
    "\n",
    "m = df.apply(filter_fn, axis=1)\n",
    "\n",
    "private_request_df = df[m]\n",
    "public_request_df = df[~m]"
   ]
  },
  {
   "cell_type": "code",
   "execution_count": null,
   "metadata": {},
   "outputs": [],
   "source": [
    "import ipaddress\n",
    "from urllib.request import urlopen\n",
    "import ssl\n",
    "ssl._create_default_https_context = ssl._create_unverified_context\n",
    "\n",
    "lookup_table = [\n",
    "    ('Google',' https://raw.githubusercontent.com/lord-alfred/ipranges/main/google/ipv4.txt'),\n",
    "    ('Google',' https://raw.githubusercontent.com/lord-alfred/ipranges/main/google/ipv6.txt'),\n",
    "    ('Bing','https://raw.githubusercontent.com/lord-alfred/ipranges/main/bing/ipv4.txt'),\n",
    "    ('Amazon','https://raw.githubusercontent.com/lord-alfred/ipranges/main/amazon/ipv4.txt'),\n",
    "    ('Amazon','https://raw.githubusercontent.com/lord-alfred/ipranges/main/amazon/ipv6.txt'),\n",
    "    ('Microsoft','https://raw.githubusercontent.com/lord-alfred/ipranges/main/microsoft/ipv4.txt'),\n",
    "    ('Microsoft','https://raw.githubusercontent.com/lord-alfred/ipranges/main/microsoft/ipv6.txt'),\n",
    "    ('Oracle','https://raw.githubusercontent.com/lord-alfred/ipranges/main/oracle/ipv4.txt'),\n",
    "    ('DigitalOcean','https://raw.githubusercontent.com/lord-alfred/ipranges/main/digitalocean/ipv4.txt'),\n",
    "    ('DigitalOcean','https://raw.githubusercontent.com/lord-alfred/ipranges/main/digitalocean/ipv6.txt')\n",
    "]\n",
    "\n",
    "for index, tuple in enumerate(lookup_table):\n",
    "\n",
    "    target_url = tuple[1]\n",
    "    cloud_name = tuple[0]\n",
    "\n",
    "    for line in urlopen(target_url):\n",
    "        value = line.decode('utf-8').strip()\n",
    "        ipList = public_request_df['Destination'].values\n",
    "        for elem in ipList:\n",
    "            if is_ip(elem):\n",
    "                if ipaddress.ip_address(elem) in ipaddress.ip_network(value):\n",
    "                    public_request_df['Cloud_Service'] = cloud_name\n"
   ]
  },
  {
   "cell_type": "markdown",
   "metadata": {},
   "source": [
    "Match public DNS Service IP Address to rows in the dataframe"
   ]
  },
  {
   "cell_type": "code",
   "execution_count": null,
   "metadata": {},
   "outputs": [],
   "source": [
    "df.loc[df['Source'].str.contains(\"8.8.8.8\"),'DNS_Service'] = 'Google'\n",
    "df.loc[df['Source'].str.contains(\"8.8.4.4\"),'DNS_Service'] = 'Google'\n",
    "df.loc[df['Source'].str.contains(\"9.9.9.9\"),'DNS_Service'] = 'Quad9'\n",
    "df.loc[df['Source'].str.contains(\"149.112.112.112\"),'DNS_Service'] = 'Quad9'\n",
    "df.loc[df['Source'].str.contains(\"208.67.222.222\"),'DNS_Service'] = 'OpenDNS'\n",
    "df.loc[df['Source'].str.contains(\"208.67.220.220\"),'DNS_Service'] = 'OpenDNS'\n",
    "df.loc[df['Source'].str.contains(\"1.1.1.1\"),'DNS_Service'] = 'Cloudflare'\n",
    "df.loc[df['Source'].str.contains(\"1.0.0.1\"),'DNS_Service'] = 'Cloudflare'\n",
    "df.loc[df['Source'].str.contains(\"185.228.168.9\"),'DNS_Service'] = 'CleanBrowsing'\n",
    "df.loc[df['Source'].str.contains(\"185.228.169.9\"),'DNS_Service'] = 'CleanBrowsing'\n",
    "df.loc[df['Source'].str.contains(\"76.76.19.19\"),'DNS_Service'] = 'Alternate DNS'\n",
    "df.loc[df['Source'].str.contains(\"76.223.122.150\"),'DNS_Service'] = 'Alternate DNS'\n",
    "df.loc[df['Source'].str.contains(\"94.140.14.14\"),'DNS_Service'] = 'AdGuard DNS'\n",
    "df.loc[df['Source'].str.contains(\"94.140.15.15\"),'DNS_Service'] = 'AdGuard DNS'\n",
    "\n",
    "#google = df.loc[df['Source'].str.contains(\"8.8.8.8\", case=False)]\n",
    "display(df)"
   ]
  },
  {
   "cell_type": "markdown",
   "metadata": {},
   "source": [
    "IP Version Analysis"
   ]
  },
  {
   "cell_type": "code",
   "execution_count": null,
   "metadata": {},
   "outputs": [],
   "source": [
    "df.loc[df['Source'].str.contains(\".\"),'IP_Version'] = 'ipv4'\n",
    "df.loc[df['Source'].str.contains(\":\"),'IP_Version'] = 'ipv6'\n"
   ]
  },
  {
   "cell_type": "code",
   "execution_count": null,
   "metadata": {},
   "outputs": [],
   "source": [
    "fig = px.histogram(df, x=df['IP_Version'], marginal = \"box\",width=800, height=400)\n",
    "fig.show()"
   ]
  },
  {
   "cell_type": "code",
   "execution_count": null,
   "metadata": {},
   "outputs": [],
   "source": [
    "#fig = px.scatter(df, x='Time', y='Source', color='Protocol')\n",
    "#fig.show()"
   ]
  },
  {
   "cell_type": "markdown",
   "metadata": {},
   "source": [
    "Protocol Analysis"
   ]
  },
  {
   "cell_type": "code",
   "execution_count": null,
   "metadata": {},
   "outputs": [],
   "source": [
    "fig = px.box(df, x='Length', color='Protocol')\n",
    "fig.show()"
   ]
  },
  {
   "cell_type": "code",
   "execution_count": null,
   "metadata": {},
   "outputs": [],
   "source": [
    "fig = px.histogram(df, x=df['Length'], marginal = \"box\",width=800, height=400)\n",
    "fig.show()"
   ]
  },
  {
   "cell_type": "code",
   "execution_count": null,
   "metadata": {},
   "outputs": [],
   "source": [
    "fig = px.histogram(df, x=df['Protocol'], marginal = \"box\",width=800, height=400)\n",
    "fig.show()"
   ]
  }
 ],
 "metadata": {
  "interpreter": {
   "hash": "397704579725e15f5c7cb49fe5f0341eb7531c82d19f2c29d197e8b64ab5776b"
  },
  "kernelspec": {
   "display_name": "Python 3.9.0 64-bit",
   "name": "python3"
  },
  "language_info": {
   "codemirror_mode": {
    "name": "ipython",
    "version": 3
   },
   "file_extension": ".py",
   "mimetype": "text/x-python",
   "name": "python",
   "nbconvert_exporter": "python",
   "pygments_lexer": "ipython3",
   "version": "3.9.0"
  },
  "orig_nbformat": 4
 },
 "nbformat": 4,
 "nbformat_minor": 2
}
