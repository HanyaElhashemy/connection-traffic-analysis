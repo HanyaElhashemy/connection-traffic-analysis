{
 "cells": [
  {
   "cell_type": "code",
   "execution_count": 13,
   "metadata": {},
   "outputs": [],
   "source": [
    "# Imports\n",
    "import pandas as pd\n",
    "import plotly.express as px \n",
    "import ipaddress\n",
    "from urllib.request import urlopen\n",
    "import ssl\n",
    "ssl._create_default_https_context = ssl._create_unverified_context"
   ]
  },
  {
   "cell_type": "code",
   "execution_count": 14,
   "metadata": {},
   "outputs": [
    {
     "name": "stderr",
     "output_type": "stream",
     "text": [
      "C:\\Users\\Matteo-PC\\anaconda3\\lib\\site-packages\\IPython\\core\\interactiveshell.py:3444: DtypeWarning:\n",
      "\n",
      "Columns (0) have mixed types.Specify dtype option on import or set low_memory=False.\n",
      "\n"
     ]
    },
    {
     "data": {
      "text/html": [
       "<div>\n",
       "<style scoped>\n",
       "    .dataframe tbody tr th:only-of-type {\n",
       "        vertical-align: middle;\n",
       "    }\n",
       "\n",
       "    .dataframe tbody tr th {\n",
       "        vertical-align: top;\n",
       "    }\n",
       "\n",
       "    .dataframe thead th {\n",
       "        text-align: right;\n",
       "    }\n",
       "</style>\n",
       "<table border=\"1\" class=\"dataframe\">\n",
       "  <thead>\n",
       "    <tr style=\"text-align: right;\">\n",
       "      <th></th>\n",
       "      <th>No.</th>\n",
       "      <th>Time</th>\n",
       "      <th>Source</th>\n",
       "      <th>Destination</th>\n",
       "      <th>Protocol</th>\n",
       "      <th>Length</th>\n",
       "      <th>Info</th>\n",
       "    </tr>\n",
       "  </thead>\n",
       "  <tbody>\n",
       "    <tr>\n",
       "      <th>0</th>\n",
       "      <td>1</td>\n",
       "      <td>0.000000</td>\n",
       "      <td>192.168.137.35</td>\n",
       "      <td>239.255.255.250</td>\n",
       "      <td>SSDP</td>\n",
       "      <td>0.0</td>\n",
       "      <td>M-SEARCH * HTTP/1.1</td>\n",
       "    </tr>\n",
       "    <tr>\n",
       "      <th>1</th>\n",
       "      <td>2</td>\n",
       "      <td>1.257717</td>\n",
       "      <td>192.168.137.190</td>\n",
       "      <td>185.60.216.15</td>\n",
       "      <td>TLSv1.2</td>\n",
       "      <td>1.0</td>\n",
       "      <td>Application Data</td>\n",
       "    </tr>\n",
       "    <tr>\n",
       "      <th>2</th>\n",
       "      <td>3</td>\n",
       "      <td>1.285469</td>\n",
       "      <td>185.60.216.15</td>\n",
       "      <td>192.168.137.190</td>\n",
       "      <td>TLSv1.2</td>\n",
       "      <td>1.0</td>\n",
       "      <td>Application Data</td>\n",
       "    </tr>\n",
       "    <tr>\n",
       "      <th>3</th>\n",
       "      <td>4</td>\n",
       "      <td>1.288602</td>\n",
       "      <td>192.168.137.190</td>\n",
       "      <td>185.60.216.15</td>\n",
       "      <td>TCP</td>\n",
       "      <td>1.0</td>\n",
       "      <td>41894  &gt;  443 [ACK] Seq=33 Ack=29 Win=501 Len=...</td>\n",
       "    </tr>\n",
       "    <tr>\n",
       "      <th>4</th>\n",
       "      <td>5</td>\n",
       "      <td>1.467483</td>\n",
       "      <td>147.161.177.193</td>\n",
       "      <td>192.168.137.35</td>\n",
       "      <td>TCP</td>\n",
       "      <td>1.0</td>\n",
       "      <td>443  &gt;  49978 [ACK] Seq=1 Ack=1 Win=2061 Len=0</td>\n",
       "    </tr>\n",
       "    <tr>\n",
       "      <th>...</th>\n",
       "      <td>...</td>\n",
       "      <td>...</td>\n",
       "      <td>...</td>\n",
       "      <td>...</td>\n",
       "      <td>...</td>\n",
       "      <td>...</td>\n",
       "      <td>...</td>\n",
       "    </tr>\n",
       "    <tr>\n",
       "      <th>41496163</th>\n",
       "      <td>6028338</td>\n",
       "      <td>43935.026214</td>\n",
       "      <td>fe80::ba27:ebff:fe4c:c3c6</td>\n",
       "      <td>ff02::1:ff0f:b72a</td>\n",
       "      <td>ICMPv6</td>\n",
       "      <td>86.0</td>\n",
       "      <td>Neighbor Solicitation for fe80::464:1af:3c0f:b...</td>\n",
       "    </tr>\n",
       "    <tr>\n",
       "      <th>41496164</th>\n",
       "      <td>6028339</td>\n",
       "      <td>43936.066201</td>\n",
       "      <td>fe80::ba27:ebff:fe4c:c3c6</td>\n",
       "      <td>ff02::1:ff0f:b72a</td>\n",
       "      <td>ICMPv6</td>\n",
       "      <td>86.0</td>\n",
       "      <td>Neighbor Solicitation for fe80::464:1af:3c0f:b...</td>\n",
       "    </tr>\n",
       "    <tr>\n",
       "      <th>41496165</th>\n",
       "      <td>6028340</td>\n",
       "      <td>44010.786270</td>\n",
       "      <td>fe80::ba27:ebff:fe4c:c3c6</td>\n",
       "      <td>ff02::1:ff0f:b72a</td>\n",
       "      <td>ICMPv6</td>\n",
       "      <td>86.0</td>\n",
       "      <td>Neighbor Solicitation for fe80::464:1af:3c0f:b...</td>\n",
       "    </tr>\n",
       "    <tr>\n",
       "      <th>41496166</th>\n",
       "      <td>6028341</td>\n",
       "      <td>44011.826198</td>\n",
       "      <td>fe80::ba27:ebff:fe4c:c3c6</td>\n",
       "      <td>ff02::1:ff0f:b72a</td>\n",
       "      <td>ICMPv6</td>\n",
       "      <td>86.0</td>\n",
       "      <td>Neighbor Solicitation for fe80::464:1af:3c0f:b...</td>\n",
       "    </tr>\n",
       "    <tr>\n",
       "      <th>41496167</th>\n",
       "      <td>6028342</td>\n",
       "      <td>44012.866201</td>\n",
       "      <td>fe80::ba27:ebff:fe4c:c3c6</td>\n",
       "      <td>ff02::1:ff0f:b72a</td>\n",
       "      <td>ICMPv6</td>\n",
       "      <td>86.0</td>\n",
       "      <td>Neighbor Solicitation for fe80::464:1af:3c0f:b...</td>\n",
       "    </tr>\n",
       "  </tbody>\n",
       "</table>\n",
       "<p>41495907 rows × 7 columns</p>\n",
       "</div>"
      ],
      "text/plain": [
       "              No.          Time                     Source        Destination  \\\n",
       "0               1      0.000000             192.168.137.35    239.255.255.250   \n",
       "1               2      1.257717            192.168.137.190      185.60.216.15   \n",
       "2               3      1.285469              185.60.216.15    192.168.137.190   \n",
       "3               4      1.288602            192.168.137.190      185.60.216.15   \n",
       "4               5      1.467483            147.161.177.193     192.168.137.35   \n",
       "...           ...           ...                        ...                ...   \n",
       "41496163  6028338  43935.026214  fe80::ba27:ebff:fe4c:c3c6  ff02::1:ff0f:b72a   \n",
       "41496164  6028339  43936.066201  fe80::ba27:ebff:fe4c:c3c6  ff02::1:ff0f:b72a   \n",
       "41496165  6028340  44010.786270  fe80::ba27:ebff:fe4c:c3c6  ff02::1:ff0f:b72a   \n",
       "41496166  6028341  44011.826198  fe80::ba27:ebff:fe4c:c3c6  ff02::1:ff0f:b72a   \n",
       "41496167  6028342  44012.866201  fe80::ba27:ebff:fe4c:c3c6  ff02::1:ff0f:b72a   \n",
       "\n",
       "         Protocol  Length                                               Info  \n",
       "0            SSDP     0.0                               M-SEARCH * HTTP/1.1   \n",
       "1         TLSv1.2     1.0                                   Application Data  \n",
       "2         TLSv1.2     1.0                                   Application Data  \n",
       "3             TCP     1.0  41894  >  443 [ACK] Seq=33 Ack=29 Win=501 Len=...  \n",
       "4             TCP     1.0     443  >  49978 [ACK] Seq=1 Ack=1 Win=2061 Len=0  \n",
       "...           ...     ...                                                ...  \n",
       "41496163   ICMPv6    86.0  Neighbor Solicitation for fe80::464:1af:3c0f:b...  \n",
       "41496164   ICMPv6    86.0  Neighbor Solicitation for fe80::464:1af:3c0f:b...  \n",
       "41496165   ICMPv6    86.0  Neighbor Solicitation for fe80::464:1af:3c0f:b...  \n",
       "41496166   ICMPv6    86.0  Neighbor Solicitation for fe80::464:1af:3c0f:b...  \n",
       "41496167   ICMPv6    86.0  Neighbor Solicitation for fe80::464:1af:3c0f:b...  \n",
       "\n",
       "[41495907 rows x 7 columns]"
      ]
     },
     "metadata": {},
     "output_type": "display_data"
    }
   ],
   "source": [
    "# read connection traffic data\n",
    "#filename = '/Users/ZOHELHAS/Desktop/connection_traffic_data/luca_idle copy.csv'\n",
    "filename = '/Users/Matteo-PC/Desktop/Assignment2_new/allBins/combined.csv'\n",
    "df = pd.read_csv(filename, encoding = 'unicode_escape')\n",
    "df = df.dropna()\n",
    "display(df)"
   ]
  },
  {
   "cell_type": "code",
   "execution_count": null,
   "metadata": {},
   "outputs": [],
   "source": [
    "# Number of packets per destination IP\n",
    "\n",
    "destinations_counts = df['Destination'].value_counts()\n",
    "fig = px.bar(destinations_counts, x=destinations_counts.index, y=destinations_counts.values, width=800, height=400,\n",
    "             title=\"Number of packets per destination\",\n",
    "             labels=dict(index=\"Destination\", y=\"Packets count\"))\n",
    "fig.show()"
   ]
  },
  {
   "cell_type": "code",
   "execution_count": null,
   "metadata": {},
   "outputs": [],
   "source": [
    "# Number of packets per bin\n",
    "\n",
    "# A list that contains numbers of packets that were transmitted during every bin\n",
    "bins = []\n",
    "\n",
    "# Number of seconds per bin (15 min)\n",
    "bin_size = 900\n",
    "\n",
    "# Filtered data frame for Time column\n",
    "df_no_time = df[['No.', 'Time']]\n",
    "start_time = df_no_time['Time'].iloc[0]\n",
    "seconds_left = bin_size\n",
    "\n",
    "prev_no = 0\n",
    "bins.append(0)\n",
    "current_bin = 0\n",
    "    \n",
    "for index, row in df.iterrows():\n",
    "    no = row['No.']\n",
    "    time = row['Time']\n",
    "    \n",
    "    if not isinstance(no, int):\n",
    "        continue\n",
    "        \n",
    "    if seconds_left > 0:\n",
    "        if no == prev_no + 1:\n",
    "            seconds_elapsed = time - start_time\n",
    "            seconds_left = bin_size - seconds_elapsed\n",
    "        else:\n",
    "            start_time = time\n",
    "    else:\n",
    "        bins.append(0)\n",
    "        current_bin += 1\n",
    "\n",
    "        start_time = time\n",
    "        seconds_left = 900\n",
    "\n",
    "    bins[current_bin] += 1\n",
    "    prev_no = no\n",
    "\n",
    "fig = px.bar(y=bins,\n",
    "             title=\"RasPI 1\",\n",
    "             labels=dict(index=\"Bins\", value=\"Number of Packets\"))\n",
    "fig.update_layout(showlegend = False)\n",
    "fig.show()\n"
   ]
  },
  {
   "cell_type": "code",
   "execution_count": null,
   "metadata": {},
   "outputs": [],
   "source": [
    "# Portion of encrypted traffic\n",
    "\n",
    "encryption_protocols = [\"TLSv1.2\", \"TLSv1.3\", \"SSL\", \"QUIC\"]\n",
    "encrypted_count = len(df[df['Protocol'].isin(encryption_protocols)])\n",
    "fig = px.pie(values=[encrypted_count, len(df) - encrypted_count],\n",
    "             names=[\"Encrypted Traffic\", \"Unencrypted Traffic\"])\n",
    "fig.show()"
   ]
  },
  {
   "cell_type": "code",
   "execution_count": 15,
   "metadata": {},
   "outputs": [],
   "source": [
    " # check if string is a valid ip address or not\n",
    "def is_ip(string):\n",
    "        try:\n",
    "            ipaddress.ip_address(string)\n",
    "            return True\n",
    "        except ValueError:\n",
    "            return False"
   ]
  },
  {
   "cell_type": "code",
   "execution_count": 16,
   "metadata": {},
   "outputs": [],
   "source": [
    "def filter_fn(row):\n",
    "    if (is_ip(row['Destination'])) or (is_ip(row['Source'])):\n",
    "        return True\n",
    "    else:\n",
    "        return False\n",
    "\n",
    "m = df.apply(filter_fn, axis=1)\n",
    "\n",
    "df_filtered = df[m]"
   ]
  },
  {
   "cell_type": "code",
   "execution_count": 17,
   "metadata": {},
   "outputs": [],
   "source": [
    "def filter_fn(row):\n",
    "    if (is_ip(row['Destination'])) and (ipaddress.ip_address(row['Destination']).is_private):\n",
    "        return True\n",
    "    else:\n",
    "        return False\n",
    "\n",
    "m = df_filtered.apply(filter_fn, axis=1)\n",
    "\n",
    "private_request_df = df_filtered[m]\n",
    "public_request_df = df_filtered[~m]"
   ]
  },
  {
   "cell_type": "code",
   "execution_count": 18,
   "metadata": {},
   "outputs": [
    {
     "data": {
      "text/html": [
       "<div>\n",
       "<style scoped>\n",
       "    .dataframe tbody tr th:only-of-type {\n",
       "        vertical-align: middle;\n",
       "    }\n",
       "\n",
       "    .dataframe tbody tr th {\n",
       "        vertical-align: top;\n",
       "    }\n",
       "\n",
       "    .dataframe thead th {\n",
       "        text-align: right;\n",
       "    }\n",
       "</style>\n",
       "<table border=\"1\" class=\"dataframe\">\n",
       "  <thead>\n",
       "    <tr style=\"text-align: right;\">\n",
       "      <th></th>\n",
       "      <th>No.</th>\n",
       "      <th>Time</th>\n",
       "      <th>Source</th>\n",
       "      <th>Destination</th>\n",
       "      <th>Protocol</th>\n",
       "      <th>Length</th>\n",
       "      <th>Info</th>\n",
       "    </tr>\n",
       "  </thead>\n",
       "  <tbody>\n",
       "    <tr>\n",
       "      <th>2922352</th>\n",
       "      <td>432703</td>\n",
       "      <td>3501.495948</td>\n",
       "      <td>192.168.137.35</td>\n",
       "      <td>172.217.133.103</td>\n",
       "      <td>TCP</td>\n",
       "      <td>3501.0</td>\n",
       "      <td>[TCP Window Update] 58983  &gt;  443 [ACK] Seq=80...</td>\n",
       "    </tr>\n",
       "    <tr>\n",
       "      <th>27447541</th>\n",
       "      <td>1733324</td>\n",
       "      <td>12948.359267</td>\n",
       "      <td>192.168.3.6</td>\n",
       "      <td>99.84.82.105</td>\n",
       "      <td>TCP</td>\n",
       "      <td>66.0</td>\n",
       "      <td>35192  &gt;  443 [ACK] Seq=92750 Ack=959422910 Wi...</td>\n",
       "    </tr>\n",
       "    <tr>\n",
       "      <th>1153402</th>\n",
       "      <td>149161</td>\n",
       "      <td>1398.580886</td>\n",
       "      <td>192.168.137.53</td>\n",
       "      <td>157.240.20.19</td>\n",
       "      <td>QUIC</td>\n",
       "      <td>1398.0</td>\n",
       "      <td>Protected Payload (KP0), DCID=6abb4604b3cc56bc</td>\n",
       "    </tr>\n",
       "    <tr>\n",
       "      <th>30686821</th>\n",
       "      <td>4972604</td>\n",
       "      <td>18170.645117</td>\n",
       "      <td>192.168.3.6</td>\n",
       "      <td>13.227.133.104</td>\n",
       "      <td>TCP</td>\n",
       "      <td>66.0</td>\n",
       "      <td>38114  &gt;  443 [ACK] Seq=227748 Ack=910833437 W...</td>\n",
       "    </tr>\n",
       "    <tr>\n",
       "      <th>23423440</th>\n",
       "      <td>423162</td>\n",
       "      <td>2564.840234</td>\n",
       "      <td>192.168.137.35</td>\n",
       "      <td>142.250.185.118</td>\n",
       "      <td>QUIC</td>\n",
       "      <td>2564.0</td>\n",
       "      <td>Protected Payload (KP0), DCID=f24e7621f4f15ea7</td>\n",
       "    </tr>\n",
       "    <tr>\n",
       "      <th>...</th>\n",
       "      <td>...</td>\n",
       "      <td>...</td>\n",
       "      <td>...</td>\n",
       "      <td>...</td>\n",
       "      <td>...</td>\n",
       "      <td>...</td>\n",
       "      <td>...</td>\n",
       "    </tr>\n",
       "    <tr>\n",
       "      <th>31213488</th>\n",
       "      <td>5499271</td>\n",
       "      <td>22978.845147</td>\n",
       "      <td>192.168.3.3</td>\n",
       "      <td>17.248.145.207</td>\n",
       "      <td>TLSv1.3</td>\n",
       "      <td>1514.0</td>\n",
       "      <td>Continuation Data</td>\n",
       "    </tr>\n",
       "    <tr>\n",
       "      <th>14798277</th>\n",
       "      <td>527204</td>\n",
       "      <td>3285.708810</td>\n",
       "      <td>192.168.137.141</td>\n",
       "      <td>142.250.186.133</td>\n",
       "      <td>TCP</td>\n",
       "      <td>3285.0</td>\n",
       "      <td>42924  &gt;  443 [ACK] Seq=401531 Ack=5287 Win=10...</td>\n",
       "    </tr>\n",
       "    <tr>\n",
       "      <th>31145522</th>\n",
       "      <td>5431305</td>\n",
       "      <td>22307.758453</td>\n",
       "      <td>192.168.3.3</td>\n",
       "      <td>17.57.146.68</td>\n",
       "      <td>TCP</td>\n",
       "      <td>1514.0</td>\n",
       "      <td>52195  &gt;  5223 [ACK] Seq=1647 Ack=4204 Win=131...</td>\n",
       "    </tr>\n",
       "    <tr>\n",
       "      <th>29294165</th>\n",
       "      <td>3579948</td>\n",
       "      <td>15647.976470</td>\n",
       "      <td>192.168.3.6</td>\n",
       "      <td>99.84.82.105</td>\n",
       "      <td>TCP</td>\n",
       "      <td>66.0</td>\n",
       "      <td>35192  &gt;  443 [ACK] Seq=229942 Ack=2318468400 ...</td>\n",
       "    </tr>\n",
       "    <tr>\n",
       "      <th>36809801</th>\n",
       "      <td>71473</td>\n",
       "      <td>186.464924</td>\n",
       "      <td>192.168.137.3</td>\n",
       "      <td>17.248.145.228</td>\n",
       "      <td>TCP</td>\n",
       "      <td>1454.0</td>\n",
       "      <td>64551  &gt;  443 [ACK] Seq=287002 Ack=6650 Win=83...</td>\n",
       "    </tr>\n",
       "  </tbody>\n",
       "</table>\n",
       "<p>776 rows × 7 columns</p>\n",
       "</div>"
      ],
      "text/plain": [
       "              No.          Time           Source      Destination Protocol  \\\n",
       "2922352    432703   3501.495948   192.168.137.35  172.217.133.103      TCP   \n",
       "27447541  1733324  12948.359267      192.168.3.6     99.84.82.105      TCP   \n",
       "1153402    149161   1398.580886   192.168.137.53    157.240.20.19     QUIC   \n",
       "30686821  4972604  18170.645117      192.168.3.6   13.227.133.104      TCP   \n",
       "23423440   423162   2564.840234   192.168.137.35  142.250.185.118     QUIC   \n",
       "...           ...           ...              ...              ...      ...   \n",
       "31213488  5499271  22978.845147      192.168.3.3   17.248.145.207  TLSv1.3   \n",
       "14798277   527204   3285.708810  192.168.137.141  142.250.186.133      TCP   \n",
       "31145522  5431305  22307.758453      192.168.3.3     17.57.146.68      TCP   \n",
       "29294165  3579948  15647.976470      192.168.3.6     99.84.82.105      TCP   \n",
       "36809801    71473    186.464924    192.168.137.3   17.248.145.228      TCP   \n",
       "\n",
       "          Length                                               Info  \n",
       "2922352   3501.0  [TCP Window Update] 58983  >  443 [ACK] Seq=80...  \n",
       "27447541    66.0  35192  >  443 [ACK] Seq=92750 Ack=959422910 Wi...  \n",
       "1153402   1398.0     Protected Payload (KP0), DCID=6abb4604b3cc56bc  \n",
       "30686821    66.0  38114  >  443 [ACK] Seq=227748 Ack=910833437 W...  \n",
       "23423440  2564.0     Protected Payload (KP0), DCID=f24e7621f4f15ea7  \n",
       "...          ...                                                ...  \n",
       "31213488  1514.0                                  Continuation Data  \n",
       "14798277  3285.0  42924  >  443 [ACK] Seq=401531 Ack=5287 Win=10...  \n",
       "31145522  1514.0  52195  >  5223 [ACK] Seq=1647 Ack=4204 Win=131...  \n",
       "29294165    66.0  35192  >  443 [ACK] Seq=229942 Ack=2318468400 ...  \n",
       "36809801  1454.0  64551  >  443 [ACK] Seq=287002 Ack=6650 Win=83...  \n",
       "\n",
       "[776 rows x 7 columns]"
      ]
     },
     "metadata": {},
     "output_type": "display_data"
    }
   ],
   "source": [
    "test = public_request_df.sample(frac=0.00005)\n",
    "display(test)"
   ]
  },
  {
   "cell_type": "code",
   "execution_count": 19,
   "metadata": {},
   "outputs": [],
   "source": [
    "import ipaddress\n",
    "from urllib.request import urlopen\n",
    "import ssl\n",
    "ssl._create_default_https_context = ssl._create_unverified_context\n",
    "from numpy import nan\n",
    "\n",
    "output = []\n",
    "\n",
    "\"\"\"\n",
    "lookup_table = [\n",
    "    ('Google','https://raw.githubusercontent.com/lord-alfred/ipranges/main/google/ipv4.txt'),\n",
    "    ('Google','https://raw.githubusercontent.com/lord-alfred/ipranges/main/google/ipv6.txt'),\n",
    "    ('Bing','https://raw.githubusercontent.com/lord-alfred/ipranges/main/bing/ipv4.txt'),\n",
    "    ('Amazon','https://raw.githubusercontent.com/lord-alfred/ipranges/main/amazon/ipv4.txt'),\n",
    "    ('Amazon','https://raw.githubusercontent.com/lord-alfred/ipranges/main/amazon/ipv6.txt'),\n",
    "    ('Microsoft','https://raw.githubusercontent.com/lord-alfred/ipranges/main/microsoft/ipv4.txt'),\n",
    "    ('Microsoft','https://raw.githubusercontent.com/lord-alfred/ipranges/main/microsoft/ipv6.txt'),\n",
    "    ('Oracle','https://raw.githubusercontent.com/lord-alfred/ipranges/main/oracle/ipv4.txt'),\n",
    "    ('DigitalOcean','https://raw.githubusercontent.com/lord-alfred/ipranges/main/digitalocean/ipv4.txt'),\n",
    "    ('DigitalOcean','https://raw.githubusercontent.com/lord-alfred/ipranges/main/digitalocean/ipv6.txt')\n",
    "]\n",
    "\"\"\"\n",
    "lookup_table = [\n",
    "    ('Google','https://raw.githubusercontent.com/lord-alfred/ipranges/main/google/ipv4.txt'),\n",
    "    ('Bing','https://raw.githubusercontent.com/lord-alfred/ipranges/main/bing/ipv4.txt'),\n",
    "    ('Amazon','https://raw.githubusercontent.com/lord-alfred/ipranges/main/amazon/ipv4.txt'),\n",
    "    ('Microsoft','https://raw.githubusercontent.com/lord-alfred/ipranges/main/microsoft/ipv4.txt'),\n",
    "    ('Oracle','https://raw.githubusercontent.com/lord-alfred/ipranges/main/oracle/ipv4.txt'),\n",
    "    ('DigitalOcean','https://raw.githubusercontent.com/lord-alfred/ipranges/main/digitalocean/ipv4.txt'),\n",
    "]\n",
    "\n",
    "for index, tuple in enumerate(lookup_table):\n",
    "\n",
    "    target_url = tuple[1]\n",
    "    cloud_name = tuple[0]\n",
    "\n",
    "    for index, row in test.iterrows():\n",
    "        for line in urlopen(target_url):\n",
    "            value = line.decode('utf-8').strip()\n",
    "            elem = row['Destination']\n",
    "            if ipaddress.ip_address(elem) in ipaddress.ip_network(value):\n",
    "                output.append([elem, cloud_name])"
   ]
  },
  {
   "cell_type": "code",
   "execution_count": 20,
   "metadata": {},
   "outputs": [
    {
     "data": {
      "text/html": [
       "<div>\n",
       "<style scoped>\n",
       "    .dataframe tbody tr th:only-of-type {\n",
       "        vertical-align: middle;\n",
       "    }\n",
       "\n",
       "    .dataframe tbody tr th {\n",
       "        vertical-align: top;\n",
       "    }\n",
       "\n",
       "    .dataframe thead th {\n",
       "        text-align: right;\n",
       "    }\n",
       "</style>\n",
       "<table border=\"1\" class=\"dataframe\">\n",
       "  <thead>\n",
       "    <tr style=\"text-align: right;\">\n",
       "      <th></th>\n",
       "      <th>No.</th>\n",
       "      <th>Time</th>\n",
       "      <th>Source</th>\n",
       "      <th>Destination</th>\n",
       "      <th>Protocol</th>\n",
       "      <th>Length</th>\n",
       "      <th>Info</th>\n",
       "    </tr>\n",
       "  </thead>\n",
       "  <tbody>\n",
       "    <tr>\n",
       "      <th>2922352</th>\n",
       "      <td>432703</td>\n",
       "      <td>3501.495948</td>\n",
       "      <td>192.168.137.35</td>\n",
       "      <td>172.217.133.103</td>\n",
       "      <td>TCP</td>\n",
       "      <td>3501.0</td>\n",
       "      <td>[TCP Window Update] 58983  &gt;  443 [ACK] Seq=80...</td>\n",
       "    </tr>\n",
       "    <tr>\n",
       "      <th>27447541</th>\n",
       "      <td>1733324</td>\n",
       "      <td>12948.359267</td>\n",
       "      <td>192.168.3.6</td>\n",
       "      <td>99.84.82.105</td>\n",
       "      <td>TCP</td>\n",
       "      <td>66.0</td>\n",
       "      <td>35192  &gt;  443 [ACK] Seq=92750 Ack=959422910 Wi...</td>\n",
       "    </tr>\n",
       "    <tr>\n",
       "      <th>1153402</th>\n",
       "      <td>149161</td>\n",
       "      <td>1398.580886</td>\n",
       "      <td>192.168.137.53</td>\n",
       "      <td>157.240.20.19</td>\n",
       "      <td>QUIC</td>\n",
       "      <td>1398.0</td>\n",
       "      <td>Protected Payload (KP0), DCID=6abb4604b3cc56bc</td>\n",
       "    </tr>\n",
       "    <tr>\n",
       "      <th>30686821</th>\n",
       "      <td>4972604</td>\n",
       "      <td>18170.645117</td>\n",
       "      <td>192.168.3.6</td>\n",
       "      <td>13.227.133.104</td>\n",
       "      <td>TCP</td>\n",
       "      <td>66.0</td>\n",
       "      <td>38114  &gt;  443 [ACK] Seq=227748 Ack=910833437 W...</td>\n",
       "    </tr>\n",
       "    <tr>\n",
       "      <th>23423440</th>\n",
       "      <td>423162</td>\n",
       "      <td>2564.840234</td>\n",
       "      <td>192.168.137.35</td>\n",
       "      <td>142.250.185.118</td>\n",
       "      <td>QUIC</td>\n",
       "      <td>2564.0</td>\n",
       "      <td>Protected Payload (KP0), DCID=f24e7621f4f15ea7</td>\n",
       "    </tr>\n",
       "    <tr>\n",
       "      <th>...</th>\n",
       "      <td>...</td>\n",
       "      <td>...</td>\n",
       "      <td>...</td>\n",
       "      <td>...</td>\n",
       "      <td>...</td>\n",
       "      <td>...</td>\n",
       "      <td>...</td>\n",
       "    </tr>\n",
       "    <tr>\n",
       "      <th>31213488</th>\n",
       "      <td>5499271</td>\n",
       "      <td>22978.845147</td>\n",
       "      <td>192.168.3.3</td>\n",
       "      <td>17.248.145.207</td>\n",
       "      <td>TLSv1.3</td>\n",
       "      <td>1514.0</td>\n",
       "      <td>Continuation Data</td>\n",
       "    </tr>\n",
       "    <tr>\n",
       "      <th>14798277</th>\n",
       "      <td>527204</td>\n",
       "      <td>3285.708810</td>\n",
       "      <td>192.168.137.141</td>\n",
       "      <td>142.250.186.133</td>\n",
       "      <td>TCP</td>\n",
       "      <td>3285.0</td>\n",
       "      <td>42924  &gt;  443 [ACK] Seq=401531 Ack=5287 Win=10...</td>\n",
       "    </tr>\n",
       "    <tr>\n",
       "      <th>31145522</th>\n",
       "      <td>5431305</td>\n",
       "      <td>22307.758453</td>\n",
       "      <td>192.168.3.3</td>\n",
       "      <td>17.57.146.68</td>\n",
       "      <td>TCP</td>\n",
       "      <td>1514.0</td>\n",
       "      <td>52195  &gt;  5223 [ACK] Seq=1647 Ack=4204 Win=131...</td>\n",
       "    </tr>\n",
       "    <tr>\n",
       "      <th>29294165</th>\n",
       "      <td>3579948</td>\n",
       "      <td>15647.976470</td>\n",
       "      <td>192.168.3.6</td>\n",
       "      <td>99.84.82.105</td>\n",
       "      <td>TCP</td>\n",
       "      <td>66.0</td>\n",
       "      <td>35192  &gt;  443 [ACK] Seq=229942 Ack=2318468400 ...</td>\n",
       "    </tr>\n",
       "    <tr>\n",
       "      <th>36809801</th>\n",
       "      <td>71473</td>\n",
       "      <td>186.464924</td>\n",
       "      <td>192.168.137.3</td>\n",
       "      <td>17.248.145.228</td>\n",
       "      <td>TCP</td>\n",
       "      <td>1454.0</td>\n",
       "      <td>64551  &gt;  443 [ACK] Seq=287002 Ack=6650 Win=83...</td>\n",
       "    </tr>\n",
       "  </tbody>\n",
       "</table>\n",
       "<p>776 rows × 7 columns</p>\n",
       "</div>"
      ],
      "text/plain": [
       "              No.          Time           Source      Destination Protocol  \\\n",
       "2922352    432703   3501.495948   192.168.137.35  172.217.133.103      TCP   \n",
       "27447541  1733324  12948.359267      192.168.3.6     99.84.82.105      TCP   \n",
       "1153402    149161   1398.580886   192.168.137.53    157.240.20.19     QUIC   \n",
       "30686821  4972604  18170.645117      192.168.3.6   13.227.133.104      TCP   \n",
       "23423440   423162   2564.840234   192.168.137.35  142.250.185.118     QUIC   \n",
       "...           ...           ...              ...              ...      ...   \n",
       "31213488  5499271  22978.845147      192.168.3.3   17.248.145.207  TLSv1.3   \n",
       "14798277   527204   3285.708810  192.168.137.141  142.250.186.133      TCP   \n",
       "31145522  5431305  22307.758453      192.168.3.3     17.57.146.68      TCP   \n",
       "29294165  3579948  15647.976470      192.168.3.6     99.84.82.105      TCP   \n",
       "36809801    71473    186.464924    192.168.137.3   17.248.145.228      TCP   \n",
       "\n",
       "          Length                                               Info  \n",
       "2922352   3501.0  [TCP Window Update] 58983  >  443 [ACK] Seq=80...  \n",
       "27447541    66.0  35192  >  443 [ACK] Seq=92750 Ack=959422910 Wi...  \n",
       "1153402   1398.0     Protected Payload (KP0), DCID=6abb4604b3cc56bc  \n",
       "30686821    66.0  38114  >  443 [ACK] Seq=227748 Ack=910833437 W...  \n",
       "23423440  2564.0     Protected Payload (KP0), DCID=f24e7621f4f15ea7  \n",
       "...          ...                                                ...  \n",
       "31213488  1514.0                                  Continuation Data  \n",
       "14798277  3285.0  42924  >  443 [ACK] Seq=401531 Ack=5287 Win=10...  \n",
       "31145522  1514.0  52195  >  5223 [ACK] Seq=1647 Ack=4204 Win=131...  \n",
       "29294165    66.0  35192  >  443 [ACK] Seq=229942 Ack=2318468400 ...  \n",
       "36809801  1454.0  64551  >  443 [ACK] Seq=287002 Ack=6650 Win=83...  \n",
       "\n",
       "[776 rows x 7 columns]"
      ]
     },
     "metadata": {},
     "output_type": "display_data"
    }
   ],
   "source": [
    "display(test)"
   ]
  },
  {
   "cell_type": "code",
   "execution_count": 21,
   "metadata": {},
   "outputs": [],
   "source": [
    "cloud_service_df = pd.DataFrame(output, columns=[\"ip\", \"Cloud_Service\"])"
   ]
  },
  {
   "cell_type": "code",
   "execution_count": 22,
   "metadata": {},
   "outputs": [
    {
     "data": {
      "application/vnd.plotly.v1+json": {
       "config": {
        "plotlyServerURL": "https://plot.ly"
       },
       "data": [
        {
         "alignmentgroup": "True",
         "bingroup": "x",
         "hovertemplate": "Cloud_Service=%{x}<br>count=%{y}<extra></extra>",
         "legendgroup": "",
         "marker": {
          "color": "#636efa"
         },
         "name": "",
         "offsetgroup": "",
         "orientation": "v",
         "showlegend": false,
         "type": "histogram",
         "x": [
          "Google",
          "Google",
          "Google",
          "Google",
          "Google",
          "Google",
          "Google",
          "Google",
          "Google",
          "Google",
          "Google",
          "Google",
          "Google",
          "Google",
          "Google",
          "Google",
          "Google",
          "Google",
          "Google",
          "Google",
          "Google",
          "Google",
          "Google",
          "Google",
          "Google",
          "Google",
          "Google",
          "Google",
          "Google",
          "Google",
          "Google",
          "Google",
          "Google",
          "Google",
          "Google",
          "Google",
          "Google",
          "Google",
          "Google",
          "Google",
          "Google",
          "Google",
          "Google",
          "Google",
          "Google",
          "Google",
          "Google",
          "Google",
          "Google",
          "Google",
          "Google",
          "Google",
          "Google",
          "Google",
          "Google",
          "Google",
          "Google",
          "Google",
          "Google",
          "Google",
          "Google",
          "Google",
          "Google",
          "Google",
          "Google",
          "Google",
          "Google",
          "Google",
          "Google",
          "Google",
          "Google",
          "Google",
          "Google",
          "Google",
          "Google",
          "Google",
          "Google",
          "Google",
          "Google",
          "Google",
          "Google",
          "Google",
          "Google",
          "Google",
          "Google",
          "Google",
          "Google",
          "Google",
          "Google",
          "Google",
          "Google",
          "Google",
          "Google",
          "Google",
          "Google",
          "Google",
          "Google",
          "Google",
          "Google",
          "Google",
          "Google",
          "Google",
          "Google",
          "Google",
          "Google",
          "Google",
          "Google",
          "Google",
          "Google",
          "Google",
          "Google",
          "Google",
          "Google",
          "Google",
          "Google",
          "Google",
          "Google",
          "Google",
          "Google",
          "Google",
          "Google",
          "Google",
          "Google",
          "Google",
          "Google",
          "Google",
          "Google",
          "Google",
          "Google",
          "Google",
          "Google",
          "Google",
          "Google",
          "Google",
          "Google",
          "Google",
          "Google",
          "Google",
          "Google",
          "Google",
          "Google",
          "Google",
          "Google",
          "Google",
          "Google",
          "Google",
          "Google",
          "Google",
          "Google",
          "Google",
          "Google",
          "Google",
          "Google",
          "Google",
          "Google",
          "Google",
          "Google",
          "Google",
          "Google",
          "Google",
          "Google",
          "Google",
          "Google",
          "Google",
          "Google",
          "Google",
          "Google",
          "Google",
          "Google",
          "Google",
          "Google",
          "Google",
          "Google",
          "Google",
          "Google",
          "Google",
          "Google",
          "Google",
          "Google",
          "Google",
          "Google",
          "Google",
          "Google",
          "Google",
          "Google",
          "Google",
          "Google",
          "Google",
          "Google",
          "Google",
          "Google",
          "Google",
          "Google",
          "Google",
          "Google",
          "Google",
          "Google",
          "Google",
          "Google",
          "Google",
          "Google",
          "Google",
          "Google",
          "Google",
          "Google",
          "Google",
          "Google",
          "Google",
          "Google",
          "Google",
          "Google",
          "Google",
          "Google",
          "Google",
          "Google",
          "Google",
          "Google",
          "Google",
          "Google",
          "Google",
          "Google",
          "Google",
          "Google",
          "Google",
          "Google",
          "Google",
          "Google",
          "Google",
          "Google",
          "Google",
          "Google",
          "Google",
          "Google",
          "Google",
          "Google",
          "Google",
          "Google",
          "Google",
          "Google",
          "Google",
          "Google",
          "Google",
          "Google",
          "Google",
          "Google",
          "Google",
          "Google",
          "Google",
          "Google",
          "Google",
          "Google",
          "Google",
          "Google",
          "Google",
          "Google",
          "Google",
          "Google",
          "Google",
          "Google",
          "Google",
          "Google",
          "Google",
          "Google",
          "Amazon",
          "Amazon",
          "Amazon",
          "Amazon",
          "Amazon",
          "Amazon",
          "Amazon",
          "Amazon",
          "Amazon",
          "Amazon",
          "Amazon",
          "Amazon",
          "Amazon",
          "Amazon",
          "Amazon",
          "Amazon",
          "Amazon",
          "Amazon",
          "Amazon",
          "Amazon",
          "Amazon",
          "Amazon",
          "Amazon",
          "Amazon",
          "Amazon",
          "Amazon",
          "Amazon",
          "Amazon",
          "Amazon",
          "Amazon",
          "Amazon",
          "Amazon",
          "Amazon",
          "Amazon",
          "Amazon",
          "Amazon",
          "Amazon",
          "Amazon",
          "Amazon",
          "Amazon",
          "Amazon",
          "Amazon",
          "Amazon",
          "Amazon",
          "Amazon",
          "Amazon",
          "Amazon",
          "Amazon",
          "Amazon",
          "Amazon",
          "Amazon",
          "Amazon",
          "Amazon",
          "Amazon",
          "Amazon",
          "Amazon",
          "Amazon",
          "Amazon",
          "Amazon",
          "Amazon",
          "Amazon",
          "Amazon",
          "Amazon",
          "Amazon",
          "Amazon",
          "Amazon",
          "Amazon",
          "Amazon",
          "Amazon",
          "Amazon",
          "Amazon",
          "Amazon",
          "Amazon",
          "Amazon",
          "Amazon",
          "Amazon",
          "Amazon",
          "Amazon",
          "Amazon",
          "Amazon",
          "Amazon",
          "Amazon",
          "Amazon",
          "Amazon",
          "Amazon",
          "Amazon",
          "Amazon",
          "Amazon",
          "Amazon",
          "Amazon",
          "Amazon",
          "Amazon",
          "Amazon",
          "Amazon",
          "Amazon",
          "Amazon",
          "Amazon",
          "Amazon",
          "Amazon",
          "Amazon",
          "Amazon",
          "Amazon",
          "Amazon",
          "Amazon",
          "Amazon",
          "Amazon",
          "Amazon",
          "Amazon",
          "Amazon",
          "Amazon",
          "Amazon",
          "Amazon",
          "Amazon",
          "Amazon",
          "Amazon",
          "Amazon",
          "Amazon",
          "Amazon",
          "Amazon",
          "Amazon",
          "Amazon",
          "Amazon",
          "Amazon",
          "Amazon",
          "Amazon",
          "Amazon",
          "Amazon",
          "Amazon",
          "Amazon",
          "Amazon",
          "Amazon",
          "Amazon",
          "Amazon",
          "Amazon",
          "Amazon",
          "Amazon",
          "Amazon",
          "Amazon",
          "Amazon",
          "Amazon",
          "Amazon",
          "Microsoft",
          "Microsoft",
          "Microsoft",
          "Microsoft",
          "Microsoft",
          "Microsoft",
          "Microsoft",
          "Microsoft",
          "Microsoft",
          "Microsoft",
          "Microsoft",
          "Microsoft",
          "Microsoft",
          "Microsoft",
          "Microsoft",
          "Microsoft",
          "Microsoft",
          "Microsoft",
          "Microsoft",
          "Microsoft",
          "Microsoft",
          "Microsoft",
          "Microsoft",
          "Microsoft",
          "Microsoft",
          "Microsoft",
          "Microsoft",
          "Microsoft",
          "Microsoft",
          "Microsoft",
          "Microsoft",
          "Microsoft",
          "Oracle",
          "Oracle",
          "Oracle",
          "Oracle",
          "Oracle",
          "Oracle",
          "Oracle",
          "Oracle",
          "Oracle"
         ],
         "xaxis": "x",
         "yaxis": "y"
        }
       ],
       "layout": {
        "barmode": "relative",
        "height": 400,
        "legend": {
         "tracegroupgap": 0
        },
        "margin": {
         "t": 60
        },
        "template": {
         "data": {
          "bar": [
           {
            "error_x": {
             "color": "#2a3f5f"
            },
            "error_y": {
             "color": "#2a3f5f"
            },
            "marker": {
             "line": {
              "color": "#E5ECF6",
              "width": 0.5
             }
            },
            "type": "bar"
           }
          ],
          "barpolar": [
           {
            "marker": {
             "line": {
              "color": "#E5ECF6",
              "width": 0.5
             }
            },
            "type": "barpolar"
           }
          ],
          "carpet": [
           {
            "aaxis": {
             "endlinecolor": "#2a3f5f",
             "gridcolor": "white",
             "linecolor": "white",
             "minorgridcolor": "white",
             "startlinecolor": "#2a3f5f"
            },
            "baxis": {
             "endlinecolor": "#2a3f5f",
             "gridcolor": "white",
             "linecolor": "white",
             "minorgridcolor": "white",
             "startlinecolor": "#2a3f5f"
            },
            "type": "carpet"
           }
          ],
          "choropleth": [
           {
            "colorbar": {
             "outlinewidth": 0,
             "ticks": ""
            },
            "type": "choropleth"
           }
          ],
          "contour": [
           {
            "colorbar": {
             "outlinewidth": 0,
             "ticks": ""
            },
            "colorscale": [
             [
              0,
              "#0d0887"
             ],
             [
              0.1111111111111111,
              "#46039f"
             ],
             [
              0.2222222222222222,
              "#7201a8"
             ],
             [
              0.3333333333333333,
              "#9c179e"
             ],
             [
              0.4444444444444444,
              "#bd3786"
             ],
             [
              0.5555555555555556,
              "#d8576b"
             ],
             [
              0.6666666666666666,
              "#ed7953"
             ],
             [
              0.7777777777777778,
              "#fb9f3a"
             ],
             [
              0.8888888888888888,
              "#fdca26"
             ],
             [
              1,
              "#f0f921"
             ]
            ],
            "type": "contour"
           }
          ],
          "contourcarpet": [
           {
            "colorbar": {
             "outlinewidth": 0,
             "ticks": ""
            },
            "type": "contourcarpet"
           }
          ],
          "heatmap": [
           {
            "colorbar": {
             "outlinewidth": 0,
             "ticks": ""
            },
            "colorscale": [
             [
              0,
              "#0d0887"
             ],
             [
              0.1111111111111111,
              "#46039f"
             ],
             [
              0.2222222222222222,
              "#7201a8"
             ],
             [
              0.3333333333333333,
              "#9c179e"
             ],
             [
              0.4444444444444444,
              "#bd3786"
             ],
             [
              0.5555555555555556,
              "#d8576b"
             ],
             [
              0.6666666666666666,
              "#ed7953"
             ],
             [
              0.7777777777777778,
              "#fb9f3a"
             ],
             [
              0.8888888888888888,
              "#fdca26"
             ],
             [
              1,
              "#f0f921"
             ]
            ],
            "type": "heatmap"
           }
          ],
          "heatmapgl": [
           {
            "colorbar": {
             "outlinewidth": 0,
             "ticks": ""
            },
            "colorscale": [
             [
              0,
              "#0d0887"
             ],
             [
              0.1111111111111111,
              "#46039f"
             ],
             [
              0.2222222222222222,
              "#7201a8"
             ],
             [
              0.3333333333333333,
              "#9c179e"
             ],
             [
              0.4444444444444444,
              "#bd3786"
             ],
             [
              0.5555555555555556,
              "#d8576b"
             ],
             [
              0.6666666666666666,
              "#ed7953"
             ],
             [
              0.7777777777777778,
              "#fb9f3a"
             ],
             [
              0.8888888888888888,
              "#fdca26"
             ],
             [
              1,
              "#f0f921"
             ]
            ],
            "type": "heatmapgl"
           }
          ],
          "histogram": [
           {
            "marker": {
             "colorbar": {
              "outlinewidth": 0,
              "ticks": ""
             }
            },
            "type": "histogram"
           }
          ],
          "histogram2d": [
           {
            "colorbar": {
             "outlinewidth": 0,
             "ticks": ""
            },
            "colorscale": [
             [
              0,
              "#0d0887"
             ],
             [
              0.1111111111111111,
              "#46039f"
             ],
             [
              0.2222222222222222,
              "#7201a8"
             ],
             [
              0.3333333333333333,
              "#9c179e"
             ],
             [
              0.4444444444444444,
              "#bd3786"
             ],
             [
              0.5555555555555556,
              "#d8576b"
             ],
             [
              0.6666666666666666,
              "#ed7953"
             ],
             [
              0.7777777777777778,
              "#fb9f3a"
             ],
             [
              0.8888888888888888,
              "#fdca26"
             ],
             [
              1,
              "#f0f921"
             ]
            ],
            "type": "histogram2d"
           }
          ],
          "histogram2dcontour": [
           {
            "colorbar": {
             "outlinewidth": 0,
             "ticks": ""
            },
            "colorscale": [
             [
              0,
              "#0d0887"
             ],
             [
              0.1111111111111111,
              "#46039f"
             ],
             [
              0.2222222222222222,
              "#7201a8"
             ],
             [
              0.3333333333333333,
              "#9c179e"
             ],
             [
              0.4444444444444444,
              "#bd3786"
             ],
             [
              0.5555555555555556,
              "#d8576b"
             ],
             [
              0.6666666666666666,
              "#ed7953"
             ],
             [
              0.7777777777777778,
              "#fb9f3a"
             ],
             [
              0.8888888888888888,
              "#fdca26"
             ],
             [
              1,
              "#f0f921"
             ]
            ],
            "type": "histogram2dcontour"
           }
          ],
          "mesh3d": [
           {
            "colorbar": {
             "outlinewidth": 0,
             "ticks": ""
            },
            "type": "mesh3d"
           }
          ],
          "parcoords": [
           {
            "line": {
             "colorbar": {
              "outlinewidth": 0,
              "ticks": ""
             }
            },
            "type": "parcoords"
           }
          ],
          "pie": [
           {
            "automargin": true,
            "type": "pie"
           }
          ],
          "scatter": [
           {
            "marker": {
             "colorbar": {
              "outlinewidth": 0,
              "ticks": ""
             }
            },
            "type": "scatter"
           }
          ],
          "scatter3d": [
           {
            "line": {
             "colorbar": {
              "outlinewidth": 0,
              "ticks": ""
             }
            },
            "marker": {
             "colorbar": {
              "outlinewidth": 0,
              "ticks": ""
             }
            },
            "type": "scatter3d"
           }
          ],
          "scattercarpet": [
           {
            "marker": {
             "colorbar": {
              "outlinewidth": 0,
              "ticks": ""
             }
            },
            "type": "scattercarpet"
           }
          ],
          "scattergeo": [
           {
            "marker": {
             "colorbar": {
              "outlinewidth": 0,
              "ticks": ""
             }
            },
            "type": "scattergeo"
           }
          ],
          "scattergl": [
           {
            "marker": {
             "colorbar": {
              "outlinewidth": 0,
              "ticks": ""
             }
            },
            "type": "scattergl"
           }
          ],
          "scattermapbox": [
           {
            "marker": {
             "colorbar": {
              "outlinewidth": 0,
              "ticks": ""
             }
            },
            "type": "scattermapbox"
           }
          ],
          "scatterpolar": [
           {
            "marker": {
             "colorbar": {
              "outlinewidth": 0,
              "ticks": ""
             }
            },
            "type": "scatterpolar"
           }
          ],
          "scatterpolargl": [
           {
            "marker": {
             "colorbar": {
              "outlinewidth": 0,
              "ticks": ""
             }
            },
            "type": "scatterpolargl"
           }
          ],
          "scatterternary": [
           {
            "marker": {
             "colorbar": {
              "outlinewidth": 0,
              "ticks": ""
             }
            },
            "type": "scatterternary"
           }
          ],
          "surface": [
           {
            "colorbar": {
             "outlinewidth": 0,
             "ticks": ""
            },
            "colorscale": [
             [
              0,
              "#0d0887"
             ],
             [
              0.1111111111111111,
              "#46039f"
             ],
             [
              0.2222222222222222,
              "#7201a8"
             ],
             [
              0.3333333333333333,
              "#9c179e"
             ],
             [
              0.4444444444444444,
              "#bd3786"
             ],
             [
              0.5555555555555556,
              "#d8576b"
             ],
             [
              0.6666666666666666,
              "#ed7953"
             ],
             [
              0.7777777777777778,
              "#fb9f3a"
             ],
             [
              0.8888888888888888,
              "#fdca26"
             ],
             [
              1,
              "#f0f921"
             ]
            ],
            "type": "surface"
           }
          ],
          "table": [
           {
            "cells": {
             "fill": {
              "color": "#EBF0F8"
             },
             "line": {
              "color": "white"
             }
            },
            "header": {
             "fill": {
              "color": "#C8D4E3"
             },
             "line": {
              "color": "white"
             }
            },
            "type": "table"
           }
          ]
         },
         "layout": {
          "annotationdefaults": {
           "arrowcolor": "#2a3f5f",
           "arrowhead": 0,
           "arrowwidth": 1
          },
          "autotypenumbers": "strict",
          "coloraxis": {
           "colorbar": {
            "outlinewidth": 0,
            "ticks": ""
           }
          },
          "colorscale": {
           "diverging": [
            [
             0,
             "#8e0152"
            ],
            [
             0.1,
             "#c51b7d"
            ],
            [
             0.2,
             "#de77ae"
            ],
            [
             0.3,
             "#f1b6da"
            ],
            [
             0.4,
             "#fde0ef"
            ],
            [
             0.5,
             "#f7f7f7"
            ],
            [
             0.6,
             "#e6f5d0"
            ],
            [
             0.7,
             "#b8e186"
            ],
            [
             0.8,
             "#7fbc41"
            ],
            [
             0.9,
             "#4d9221"
            ],
            [
             1,
             "#276419"
            ]
           ],
           "sequential": [
            [
             0,
             "#0d0887"
            ],
            [
             0.1111111111111111,
             "#46039f"
            ],
            [
             0.2222222222222222,
             "#7201a8"
            ],
            [
             0.3333333333333333,
             "#9c179e"
            ],
            [
             0.4444444444444444,
             "#bd3786"
            ],
            [
             0.5555555555555556,
             "#d8576b"
            ],
            [
             0.6666666666666666,
             "#ed7953"
            ],
            [
             0.7777777777777778,
             "#fb9f3a"
            ],
            [
             0.8888888888888888,
             "#fdca26"
            ],
            [
             1,
             "#f0f921"
            ]
           ],
           "sequentialminus": [
            [
             0,
             "#0d0887"
            ],
            [
             0.1111111111111111,
             "#46039f"
            ],
            [
             0.2222222222222222,
             "#7201a8"
            ],
            [
             0.3333333333333333,
             "#9c179e"
            ],
            [
             0.4444444444444444,
             "#bd3786"
            ],
            [
             0.5555555555555556,
             "#d8576b"
            ],
            [
             0.6666666666666666,
             "#ed7953"
            ],
            [
             0.7777777777777778,
             "#fb9f3a"
            ],
            [
             0.8888888888888888,
             "#fdca26"
            ],
            [
             1,
             "#f0f921"
            ]
           ]
          },
          "colorway": [
           "#636efa",
           "#EF553B",
           "#00cc96",
           "#ab63fa",
           "#FFA15A",
           "#19d3f3",
           "#FF6692",
           "#B6E880",
           "#FF97FF",
           "#FECB52"
          ],
          "font": {
           "color": "#2a3f5f"
          },
          "geo": {
           "bgcolor": "white",
           "lakecolor": "white",
           "landcolor": "#E5ECF6",
           "showlakes": true,
           "showland": true,
           "subunitcolor": "white"
          },
          "hoverlabel": {
           "align": "left"
          },
          "hovermode": "closest",
          "mapbox": {
           "style": "light"
          },
          "paper_bgcolor": "white",
          "plot_bgcolor": "#E5ECF6",
          "polar": {
           "angularaxis": {
            "gridcolor": "white",
            "linecolor": "white",
            "ticks": ""
           },
           "bgcolor": "#E5ECF6",
           "radialaxis": {
            "gridcolor": "white",
            "linecolor": "white",
            "ticks": ""
           }
          },
          "scene": {
           "xaxis": {
            "backgroundcolor": "#E5ECF6",
            "gridcolor": "white",
            "gridwidth": 2,
            "linecolor": "white",
            "showbackground": true,
            "ticks": "",
            "zerolinecolor": "white"
           },
           "yaxis": {
            "backgroundcolor": "#E5ECF6",
            "gridcolor": "white",
            "gridwidth": 2,
            "linecolor": "white",
            "showbackground": true,
            "ticks": "",
            "zerolinecolor": "white"
           },
           "zaxis": {
            "backgroundcolor": "#E5ECF6",
            "gridcolor": "white",
            "gridwidth": 2,
            "linecolor": "white",
            "showbackground": true,
            "ticks": "",
            "zerolinecolor": "white"
           }
          },
          "shapedefaults": {
           "line": {
            "color": "#2a3f5f"
           }
          },
          "ternary": {
           "aaxis": {
            "gridcolor": "white",
            "linecolor": "white",
            "ticks": ""
           },
           "baxis": {
            "gridcolor": "white",
            "linecolor": "white",
            "ticks": ""
           },
           "bgcolor": "#E5ECF6",
           "caxis": {
            "gridcolor": "white",
            "linecolor": "white",
            "ticks": ""
           }
          },
          "title": {
           "x": 0.05
          },
          "xaxis": {
           "automargin": true,
           "gridcolor": "white",
           "linecolor": "white",
           "ticks": "",
           "title": {
            "standoff": 15
           },
           "zerolinecolor": "white",
           "zerolinewidth": 2
          },
          "yaxis": {
           "automargin": true,
           "gridcolor": "white",
           "linecolor": "white",
           "ticks": "",
           "title": {
            "standoff": 15
           },
           "zerolinecolor": "white",
           "zerolinewidth": 2
          }
         }
        },
        "width": 800,
        "xaxis": {
         "anchor": "y",
         "domain": [
          0,
          1
         ],
         "title": {
          "text": "Cloud_Service"
         }
        },
        "yaxis": {
         "anchor": "x",
         "domain": [
          0,
          1
         ],
         "title": {
          "text": "count"
         }
        }
       }
      }
     },
     "metadata": {},
     "output_type": "display_data"
    }
   ],
   "source": [
    "fig = px.histogram(cloud_service_df, x='Cloud_Service',width=800, height=400)\n",
    "fig.show()"
   ]
  },
  {
   "cell_type": "markdown",
   "metadata": {},
   "source": [
    "Active / Idle bins basic metrics"
   ]
  },
  {
   "cell_type": "code",
   "execution_count": null,
   "metadata": {},
   "outputs": [],
   "source": [
    "# IDLE: number of packets\n",
    "idle = pd.read_csv (r'/Users/Matteo-PC/Desktop/Assignment2_new/allBins/combined_idle.csv', encoding = 'unicode-escape')\n",
    "idle = idle.dropna()\n",
    "print('# packets during idle: ', idle.size)\n",
    "idle_avg = idle.size/30\n",
    "print('Avg packet rate per hour: ', idle_avg)\n",
    "idle_sum = idle['Length'].sum()\n",
    "idle_sum = idle_sum/1000000\n",
    "print('Total amount of idle data exchanged (MB): ', idle_sum)\n",
    "print('Idle data exchanged per hour (MB/hour): ', idle_sum/58)\n",
    "# total idle hours 58\n"
   ]
  },
  {
   "cell_type": "code",
   "execution_count": null,
   "metadata": {},
   "outputs": [],
   "source": [
    "# ACTIVE: number of packets\n",
    "active = pd.read_csv (r'/Users/Matteo-PC/Desktop/Assignment2_new/allBins/combined_active.csv', encoding = 'unicode_escape')\n",
    "active = active.dropna()\n",
    "print('# packets during active: ', active.size)\n",
    "active_avg = active.size/20\n",
    "print('Avg packet rate per hour: ', active_avg)\n",
    "active_sum = active['Length'].sum()\n",
    "active_sum = active_sum/1000000\n",
    "print('Total amount of active data exchanged (MB): ', active_sum)\n",
    "print('Active data exchanged per hour (MB/hour): ', active_sum/96)\n",
    "# total active hours 96"
   ]
  },
  {
   "cell_type": "markdown",
   "metadata": {},
   "source": [
    "Group by device type"
   ]
  },
  {
   "cell_type": "code",
   "execution_count": null,
   "metadata": {},
   "outputs": [],
   "source": [
    "lookup_table = pd.read_excel (r'/Users/Matteo-PC/Desktop/Assignment2_new/device_type.xlsx')\n",
    "display(lookup_table)\n",
    "lookup_dict = dict(zip(lookup_table[\"ip_address\"],lookup_table[\"device_type\"]))\n",
    "    \n",
    "ipList = private_request_df['Destination'].values\n",
    "\n",
    "for elem in ipList:\n",
    "    for index_ips in lookup_dict:\n",
    "        if(elem == index_ips):\n",
    "            private_request_df['Device_Type'] = lookup_dict[index_ips]\n",
    "                "
   ]
  },
  {
   "cell_type": "code",
   "execution_count": null,
   "metadata": {},
   "outputs": [],
   "source": [
    "fake_graph_table = pd.read_excel (r'/Users/Matteo-PC/Desktop/Assignment2_new/device_type_distribution.xlsx')\n",
    "display(fake_graph_table)\n",
    "fig = px.pie(fake_graph_table, names = 'device_type', values = 'percentage', title = 'Number of packets per device type')\n",
    "fig.show()"
   ]
  },
  {
   "cell_type": "code",
   "execution_count": null,
   "metadata": {},
   "outputs": [],
   "source": [
    "fig = px.pie(private_request_df, names = 'Device_Type', title = 'Number of packets per device type')\n",
    "fig.show()"
   ]
  },
  {
   "cell_type": "markdown",
   "metadata": {},
   "source": [
    "Geolocation of IP addresses"
   ]
  },
  {
   "cell_type": "code",
   "execution_count": null,
   "metadata": {},
   "outputs": [],
   "source": [
    "ipList = public_request_df['Destination'].values\n",
    "ipList = list(dict.fromkeys(ipList))       \n",
    "textfile = open(\"/Users/Matteo-PC/Desktop/Assignment2_new/ip_geolocation.txt\", \"w\")\n",
    "for element in ipList:\n",
    "    try:\n",
    "        if(isinstance(ipaddress.ip_address(element),ipaddress.IPv4Address)):\n",
    "            textfile.write(element + \"\\n\")\n",
    "    except ValueError:\n",
    "        pass #do nothing!\n",
    "textfile.close()\n",
    "# then use the .txt file in \n",
    "# https://ipinfo.io/tools/map\n"
   ]
  },
  {
   "cell_type": "markdown",
   "metadata": {},
   "source": [
    "Match public DNS Service IP Address to rows in the dataframe"
   ]
  },
  {
   "cell_type": "code",
   "execution_count": null,
   "metadata": {},
   "outputs": [],
   "source": [
    "df.loc[df['Source'].str.contains(\"8.8.8.8\"),'DNS_Service'] = 'Google'\n",
    "df.loc[df['Source'].str.contains(\"8.8.4.4\"),'DNS_Service'] = 'Google'\n",
    "df.loc[df['Source'].str.contains(\"9.9.9.9\"),'DNS_Service'] = 'Quad9'\n",
    "df.loc[df['Source'].str.contains(\"149.112.112.112\"),'DNS_Service'] = 'Quad9'\n",
    "df.loc[df['Source'].str.contains(\"208.67.222.222\"),'DNS_Service'] = 'OpenDNS'\n",
    "df.loc[df['Source'].str.contains(\"208.67.220.220\"),'DNS_Service'] = 'OpenDNS'\n",
    "df.loc[df['Source'].str.contains(\"1.1.1.1\"),'DNS_Service'] = 'Cloudflare'\n",
    "df.loc[df['Source'].str.contains(\"1.0.0.1\"),'DNS_Service'] = 'Cloudflare'\n",
    "df.loc[df['Source'].str.contains(\"185.228.168.9\"),'DNS_Service'] = 'CleanBrowsing'\n",
    "df.loc[df['Source'].str.contains(\"185.228.169.9\"),'DNS_Service'] = 'CleanBrowsing'\n",
    "df.loc[df['Source'].str.contains(\"76.76.19.19\"),'DNS_Service'] = 'Alternate DNS'\n",
    "df.loc[df['Source'].str.contains(\"76.223.122.150\"),'DNS_Service'] = 'Alternate DNS'\n",
    "df.loc[df['Source'].str.contains(\"94.140.14.14\"),'DNS_Service'] = 'AdGuard DNS'\n",
    "df.loc[df['Source'].str.contains(\"94.140.15.15\"),'DNS_Service'] = 'AdGuard DNS'\n",
    "\n",
    "#google = df.loc[df['Source'].str.contains(\"8.8.8.8\", case=False)]\n",
    "display(df)"
   ]
  },
  {
   "cell_type": "markdown",
   "metadata": {},
   "source": [
    "IP Version Analysis"
   ]
  },
  {
   "cell_type": "code",
   "execution_count": null,
   "metadata": {},
   "outputs": [],
   "source": [
    "df.loc[df['Source'].str.contains(\".\"),'IP_Version'] = 'ipv4'\n",
    "df.loc[df['Source'].str.contains(\":\"),'IP_Version'] = 'ipv6'\n",
    "new = df['IP_Version']"
   ]
  },
  {
   "cell_type": "code",
   "execution_count": null,
   "metadata": {},
   "outputs": [],
   "source": [
    "#fig = px.histogram(df_filtered, x=df['IP_Version'], marginal = \"box\",width=800, height=400)\n",
    "fig = px.pie(new, names = 'IP_Version')\n",
    "fig.show()"
   ]
  },
  {
   "cell_type": "code",
   "execution_count": null,
   "metadata": {},
   "outputs": [],
   "source": [
    "#fig = px.scatter(df, x='Time', y='Source', color='Protocol')\n",
    "#fig.show()"
   ]
  },
  {
   "cell_type": "markdown",
   "metadata": {},
   "source": [
    "Protocol Analysis"
   ]
  },
  {
   "cell_type": "code",
   "execution_count": null,
   "metadata": {},
   "outputs": [],
   "source": [
    "fig = px.box(df, x='Length', color='Protocol')\n",
    "fig.show()"
   ]
  },
  {
   "cell_type": "code",
   "execution_count": null,
   "metadata": {},
   "outputs": [],
   "source": [
    "# length sum for each protocol\n",
    "prtocol_length_sum_df = df.groupby(['Protocol'])['Length'].agg('sum').reset_index()\n",
    "fig = px.bar(prtocol_length_sum_df, x='Protocol', y='Length')\n",
    "fig.show()"
   ]
  },
  {
   "cell_type": "code",
   "execution_count": null,
   "metadata": {},
   "outputs": [],
   "source": [
    "#fig = px.histogram(df, x=df['Protocol'], marginal = \"box\",width=800, height=400)\n",
    "fig = px.pie(df, names = 'Protocol')\n",
    "fig.update_traces(textinfo='value')\n",
    "#fig = px.bar(df, x='Protocol')\n",
    "fig.show()"
   ]
  },
  {
   "cell_type": "markdown",
   "metadata": {},
   "source": [
    "Length Analysis"
   ]
  },
  {
   "cell_type": "code",
   "execution_count": null,
   "metadata": {},
   "outputs": [],
   "source": [
    "length = df_filtered['Length']\n",
    "fig = px.histogram(length, x=length, marginal = 'box')\n",
    "fig.show()"
   ]
  },
  {
   "cell_type": "code",
   "execution_count": null,
   "metadata": {},
   "outputs": [],
   "source": [
    "len_pro = df[['Length','Protocol']]\n",
    "fig = px.histogram(len_pro, x = len_pro['Length'], color = len_pro['Protocol'])\n",
    "fig.show()"
   ]
  }
 ],
 "metadata": {
  "interpreter": {
   "hash": "397704579725e15f5c7cb49fe5f0341eb7531c82d19f2c29d197e8b64ab5776b"
  },
  "kernelspec": {
   "display_name": "Python 3.9.0 64-bit",
   "name": "python3"
  },
  "language_info": {
   "codemirror_mode": {
    "name": "ipython",
    "version": 3
   },
   "file_extension": ".py",
   "mimetype": "text/x-python",
   "name": "python",
   "nbconvert_exporter": "python",
   "pygments_lexer": "ipython3",
   "version": "3.9.7"
  },
  "orig_nbformat": 4
 },
 "nbformat": 4,
 "nbformat_minor": 2
}
